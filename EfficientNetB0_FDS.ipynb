{
  "cells": [
    {
      "cell_type": "markdown",
      "metadata": {
        "id": "view-in-github",
        "colab_type": "text"
      },
      "source": [
        "<a href=\"https://colab.research.google.com/github/manvgom/Pickioset/blob/main/EfficientNetB0_CC.ipynb\" target=\"_parent\"><img src=\"https://colab.research.google.com/assets/colab-badge.svg\" alt=\"Open In Colab\"/></a>"
      ]
    },
    {
      "cell_type": "code",
      "source": [
        "%reset"
      ],
      "metadata": {
        "colab": {
          "base_uri": "https://localhost:8080/"
        },
        "id": "H7TdpxA5LSMd",
        "outputId": "6eb2dac9-a994-4569-a058-fb2c1c9f7fe0"
      },
      "execution_count": 1,
      "outputs": [
        {
          "name": "stdout",
          "output_type": "stream",
          "text": [
            "Once deleted, variables cannot be recovered. Proceed (y/[n])? y\n"
          ]
        }
      ]
    },
    {
      "cell_type": "code",
      "source": [
        "from google.colab import drive\n",
        "drive.mount('/content/drive', force_remount=True)"
      ],
      "metadata": {
        "colab": {
          "base_uri": "https://localhost:8080/"
        },
        "id": "NmX7imFXMADl",
        "outputId": "477366de-ba83-484a-a224-e73bd4498737"
      },
      "execution_count": 2,
      "outputs": [
        {
          "output_type": "stream",
          "name": "stdout",
          "text": [
            "Mounted at /content/drive\n"
          ]
        }
      ]
    },
    {
      "cell_type": "code",
      "source": [
        "import numpy as np\n",
        "import tensorflow as tf\n",
        "import numpy as np \n",
        "import pandas as pd \n",
        "import matplotlib.pyplot as plt\n",
        "\n",
        "from matplotlib.pyplot import imread\n",
        "from matplotlib.pyplot import imshow\n",
        "\n",
        "from sklearn.preprocessing import LabelEncoder , OneHotEncoder\n",
        "from sklearn.compose import ColumnTransformer\n",
        "from sklearn.utils import shuffle\n",
        "from sklearn.model_selection import train_test_split\n",
        "\n",
        "from tensorflow import keras\n",
        "from tensorflow.keras import layers\n",
        "from tensorflow.keras.preprocessing import image\n",
        "from tensorflow.keras.applications import EfficientNetB0\n",
        "from tensorflow.keras.applications.imagenet_utils import decode_predictions\n",
        "from tensorflow.keras.applications.imagenet_utils import preprocess_input\n",
        "\n",
        "import cv2\n",
        "import os"
      ],
      "metadata": {
        "id": "6oDzK1cnQXzc"
      },
      "execution_count": 19,
      "outputs": []
    },
    {
      "cell_type": "code",
      "execution_count": 20,
      "metadata": {
        "id": "8a62FSulJSka",
        "outputId": "5a38a7a8-6334-40d5-c01b-8dddc7ba4101",
        "colab": {
          "base_uri": "https://localhost:8080/"
        }
      },
      "outputs": [
        {
          "output_type": "stream",
          "name": "stdout",
          "text": [
            "['fanta_limon', 'hummus_pimiento', 'gazpacho', 'crema_calabaza', 'botella_agua', 'coca_cola', 'ensalada_rusa', 'fanta_naranja', 'ensalada_cangrejo', 'guisantes_jamon', 'smoothie_mango', 'paella', 'manzana', 'snack_integral', 'smoothie_fresa', 'sandwich_jamon', 'tortilla_patata', 'yogurth_cereal']\n",
            "Types of classes labels found:  18\n"
          ]
        }
      ],
      "source": [
        "#Definir categorias\n",
        "ds_path = os.listdir('drive/MyDrive/MTDI_TFM/PICKIOSET/dataset')\n",
        "print (ds_path)\n",
        "print(\"Types of classes labels found: \", len(ds_path))"
      ]
    },
    {
      "cell_type": "code",
      "execution_count": 21,
      "metadata": {
        "id": "bGwSqg-WJSka",
        "colab": {
          "base_uri": "https://localhost:8080/",
          "height": 424
        },
        "outputId": "92dda343-13ee-44aa-d45c-a30c3649963c"
      },
      "outputs": [
        {
          "output_type": "execute_result",
          "data": {
            "text/plain": [
              "              Labels                                   image\n",
              "0        fanta_limon   ds_path/fanta_limon/fantalimon_98.jpg\n",
              "1        fanta_limon   ds_path/fanta_limon/fantalimon_97.jpg\n",
              "2        fanta_limon   ds_path/fanta_limon/fantalimon_99.jpg\n",
              "3        fanta_limon   ds_path/fanta_limon/fantalimon_96.jpg\n",
              "4        fanta_limon  ds_path/fanta_limon/fantalimon_100.jpg\n",
              "...              ...                                     ...\n",
              "1795  yogurth_cereal   ds_path/yogurth_cereal/yogurth_10.jpg\n",
              "1796  yogurth_cereal    ds_path/yogurth_cereal/yogurth_3.jpg\n",
              "1797  yogurth_cereal    ds_path/yogurth_cereal/yogurth_5.jpg\n",
              "1798  yogurth_cereal    ds_path/yogurth_cereal/yogurth_1.jpg\n",
              "1799  yogurth_cereal    ds_path/yogurth_cereal/yogurth_2.jpg\n",
              "\n",
              "[1800 rows x 2 columns]"
            ],
            "text/html": [
              "\n",
              "  <div id=\"df-21b817dc-1025-45c2-8e94-58461bb70402\">\n",
              "    <div class=\"colab-df-container\">\n",
              "      <div>\n",
              "<style scoped>\n",
              "    .dataframe tbody tr th:only-of-type {\n",
              "        vertical-align: middle;\n",
              "    }\n",
              "\n",
              "    .dataframe tbody tr th {\n",
              "        vertical-align: top;\n",
              "    }\n",
              "\n",
              "    .dataframe thead th {\n",
              "        text-align: right;\n",
              "    }\n",
              "</style>\n",
              "<table border=\"1\" class=\"dataframe\">\n",
              "  <thead>\n",
              "    <tr style=\"text-align: right;\">\n",
              "      <th></th>\n",
              "      <th>Labels</th>\n",
              "      <th>image</th>\n",
              "    </tr>\n",
              "  </thead>\n",
              "  <tbody>\n",
              "    <tr>\n",
              "      <th>0</th>\n",
              "      <td>fanta_limon</td>\n",
              "      <td>ds_path/fanta_limon/fantalimon_98.jpg</td>\n",
              "    </tr>\n",
              "    <tr>\n",
              "      <th>1</th>\n",
              "      <td>fanta_limon</td>\n",
              "      <td>ds_path/fanta_limon/fantalimon_97.jpg</td>\n",
              "    </tr>\n",
              "    <tr>\n",
              "      <th>2</th>\n",
              "      <td>fanta_limon</td>\n",
              "      <td>ds_path/fanta_limon/fantalimon_99.jpg</td>\n",
              "    </tr>\n",
              "    <tr>\n",
              "      <th>3</th>\n",
              "      <td>fanta_limon</td>\n",
              "      <td>ds_path/fanta_limon/fantalimon_96.jpg</td>\n",
              "    </tr>\n",
              "    <tr>\n",
              "      <th>4</th>\n",
              "      <td>fanta_limon</td>\n",
              "      <td>ds_path/fanta_limon/fantalimon_100.jpg</td>\n",
              "    </tr>\n",
              "    <tr>\n",
              "      <th>...</th>\n",
              "      <td>...</td>\n",
              "      <td>...</td>\n",
              "    </tr>\n",
              "    <tr>\n",
              "      <th>1795</th>\n",
              "      <td>yogurth_cereal</td>\n",
              "      <td>ds_path/yogurth_cereal/yogurth_10.jpg</td>\n",
              "    </tr>\n",
              "    <tr>\n",
              "      <th>1796</th>\n",
              "      <td>yogurth_cereal</td>\n",
              "      <td>ds_path/yogurth_cereal/yogurth_3.jpg</td>\n",
              "    </tr>\n",
              "    <tr>\n",
              "      <th>1797</th>\n",
              "      <td>yogurth_cereal</td>\n",
              "      <td>ds_path/yogurth_cereal/yogurth_5.jpg</td>\n",
              "    </tr>\n",
              "    <tr>\n",
              "      <th>1798</th>\n",
              "      <td>yogurth_cereal</td>\n",
              "      <td>ds_path/yogurth_cereal/yogurth_1.jpg</td>\n",
              "    </tr>\n",
              "    <tr>\n",
              "      <th>1799</th>\n",
              "      <td>yogurth_cereal</td>\n",
              "      <td>ds_path/yogurth_cereal/yogurth_2.jpg</td>\n",
              "    </tr>\n",
              "  </tbody>\n",
              "</table>\n",
              "<p>1800 rows × 2 columns</p>\n",
              "</div>\n",
              "      <button class=\"colab-df-convert\" onclick=\"convertToInteractive('df-21b817dc-1025-45c2-8e94-58461bb70402')\"\n",
              "              title=\"Convert this dataframe to an interactive table.\"\n",
              "              style=\"display:none;\">\n",
              "        \n",
              "  <svg xmlns=\"http://www.w3.org/2000/svg\" height=\"24px\"viewBox=\"0 0 24 24\"\n",
              "       width=\"24px\">\n",
              "    <path d=\"M0 0h24v24H0V0z\" fill=\"none\"/>\n",
              "    <path d=\"M18.56 5.44l.94 2.06.94-2.06 2.06-.94-2.06-.94-.94-2.06-.94 2.06-2.06.94zm-11 1L8.5 8.5l.94-2.06 2.06-.94-2.06-.94L8.5 2.5l-.94 2.06-2.06.94zm10 10l.94 2.06.94-2.06 2.06-.94-2.06-.94-.94-2.06-.94 2.06-2.06.94z\"/><path d=\"M17.41 7.96l-1.37-1.37c-.4-.4-.92-.59-1.43-.59-.52 0-1.04.2-1.43.59L10.3 9.45l-7.72 7.72c-.78.78-.78 2.05 0 2.83L4 21.41c.39.39.9.59 1.41.59.51 0 1.02-.2 1.41-.59l7.78-7.78 2.81-2.81c.8-.78.8-2.07 0-2.86zM5.41 20L4 18.59l7.72-7.72 1.47 1.35L5.41 20z\"/>\n",
              "  </svg>\n",
              "      </button>\n",
              "      \n",
              "  <style>\n",
              "    .colab-df-container {\n",
              "      display:flex;\n",
              "      flex-wrap:wrap;\n",
              "      gap: 12px;\n",
              "    }\n",
              "\n",
              "    .colab-df-convert {\n",
              "      background-color: #E8F0FE;\n",
              "      border: none;\n",
              "      border-radius: 50%;\n",
              "      cursor: pointer;\n",
              "      display: none;\n",
              "      fill: #1967D2;\n",
              "      height: 32px;\n",
              "      padding: 0 0 0 0;\n",
              "      width: 32px;\n",
              "    }\n",
              "\n",
              "    .colab-df-convert:hover {\n",
              "      background-color: #E2EBFA;\n",
              "      box-shadow: 0px 1px 2px rgba(60, 64, 67, 0.3), 0px 1px 3px 1px rgba(60, 64, 67, 0.15);\n",
              "      fill: #174EA6;\n",
              "    }\n",
              "\n",
              "    [theme=dark] .colab-df-convert {\n",
              "      background-color: #3B4455;\n",
              "      fill: #D2E3FC;\n",
              "    }\n",
              "\n",
              "    [theme=dark] .colab-df-convert:hover {\n",
              "      background-color: #434B5C;\n",
              "      box-shadow: 0px 1px 3px 1px rgba(0, 0, 0, 0.15);\n",
              "      filter: drop-shadow(0px 1px 2px rgba(0, 0, 0, 0.3));\n",
              "      fill: #FFFFFF;\n",
              "    }\n",
              "  </style>\n",
              "\n",
              "      <script>\n",
              "        const buttonEl =\n",
              "          document.querySelector('#df-21b817dc-1025-45c2-8e94-58461bb70402 button.colab-df-convert');\n",
              "        buttonEl.style.display =\n",
              "          google.colab.kernel.accessAllowed ? 'block' : 'none';\n",
              "\n",
              "        async function convertToInteractive(key) {\n",
              "          const element = document.querySelector('#df-21b817dc-1025-45c2-8e94-58461bb70402');\n",
              "          const dataTable =\n",
              "            await google.colab.kernel.invokeFunction('convertToInteractive',\n",
              "                                                     [key], {});\n",
              "          if (!dataTable) return;\n",
              "\n",
              "          const docLinkHtml = 'Like what you see? Visit the ' +\n",
              "            '<a target=\"_blank\" href=https://colab.research.google.com/notebooks/data_table.ipynb>data table notebook</a>'\n",
              "            + ' to learn more about interactive tables.';\n",
              "          element.innerHTML = '';\n",
              "          dataTable['output_type'] = 'display_data';\n",
              "          await google.colab.output.renderOutput(dataTable, element);\n",
              "          const docLink = document.createElement('div');\n",
              "          docLink.innerHTML = docLinkHtml;\n",
              "          element.appendChild(docLink);\n",
              "        }\n",
              "      </script>\n",
              "    </div>\n",
              "  </div>\n",
              "  "
            ]
          },
          "metadata": {},
          "execution_count": 21
        }
      ],
      "source": [
        "#Generar dataframe con muestras y categorias\n",
        "class_labels = []\n",
        "for item in ds_path:\n",
        " all_classes = os.listdir('drive/MyDrive/MTDI_TFM/PICKIOSET/dataset' + '/' +item)\n",
        " for room in all_classes:\n",
        "  class_labels.append((item, str('ds_path' + '/' +item) + '/' + room))\n",
        "df = pd.DataFrame(data=class_labels, columns=['Labels', 'image'])\n",
        "df"
      ]
    },
    {
      "cell_type": "code",
      "execution_count": 22,
      "metadata": {
        "id": "5UiY6iX1JSkb",
        "outputId": "0a9f0202-4108-4854-f6e6-f07f5a8a9c58",
        "colab": {
          "base_uri": "https://localhost:8080/"
        }
      },
      "outputs": [
        {
          "output_type": "stream",
          "name": "stdout",
          "text": [
            "Total number of images in the dataset:  1800\n",
            "fanta_limon          100\n",
            "hummus_pimiento      100\n",
            "tortilla_patata      100\n",
            "sandwich_jamon       100\n",
            "smoothie_fresa       100\n",
            "snack_integral       100\n",
            "manzana              100\n",
            "paella               100\n",
            "smoothie_mango       100\n",
            "guisantes_jamon      100\n",
            "ensalada_cangrejo    100\n",
            "fanta_naranja        100\n",
            "ensalada_rusa        100\n",
            "coca_cola            100\n",
            "botella_agua         100\n",
            "crema_calabaza       100\n",
            "gazpacho             100\n",
            "yogurth_cereal       100\n",
            "Name: Labels, dtype: int64\n"
          ]
        }
      ],
      "source": [
        " #Número de muestras por categoria\n",
        "print(\"Total number of images in the dataset: \", len(df))\n",
        "label_count = df['Labels'].value_counts()\n",
        "print(label_count)"
      ]
    },
    {
      "cell_type": "code",
      "execution_count": 23,
      "metadata": {
        "id": "WZnng9nUJSkb"
      },
      "outputs": [],
      "source": [
        "#Escalar las imagenes\n",
        "path = 'drive/MyDrive/MTDI_TFM/PICKIOSET/dataset/'\n",
        "dataset_path = os.listdir('drive/MyDrive/MTDI_TFM/PICKIOSET/dataset')\n",
        "  \n",
        "img_size = 224\n",
        "\n",
        "images = []\n",
        "labels = []\n",
        "\n",
        "for i in dataset_path:\n",
        "    data_path = path + str(i)  \n",
        "    filenames = [i for i in os.listdir(data_path) ]\n",
        "   \n",
        "    for f in filenames:\n",
        "        img = cv2.imread(data_path + '/' + f)\n",
        "        img = cv2.resize(img, (img_size, img_size))\n",
        "        images.append(img)\n",
        "        labels.append(i)"
      ]
    },
    {
      "cell_type": "code",
      "execution_count": 24,
      "metadata": {
        "id": "BeieKg2kJSkc",
        "outputId": "5a51f956-cab4-492a-8c10-330f50361da3",
        "colab": {
          "base_uri": "https://localhost:8080/"
        }
      },
      "outputs": [
        {
          "output_type": "execute_result",
          "data": {
            "text/plain": [
              "(1800, 224, 224, 3)"
            ]
          },
          "metadata": {},
          "execution_count": 24
        }
      ],
      "source": [
        "images = np.array(images)\n",
        "images = images.astype('float32') / 255.0\n",
        "images.shape"
      ]
    },
    {
      "cell_type": "code",
      "execution_count": 25,
      "metadata": {
        "id": "x5eBkolEJSkc",
        "outputId": "5126924d-39d4-4773-ee7b-92621965081e",
        "colab": {
          "base_uri": "https://localhost:8080/"
        }
      },
      "outputs": [
        {
          "output_type": "stream",
          "name": "stdout",
          "text": [
            "['fanta_limon', 'hummus_pimiento', 'gazpacho', 'crema_calabaza', 'botella_agua', 'coca_cola', 'ensalada_rusa', 'fanta_naranja', 'ensalada_cangrejo', 'guisantes_jamon', 'smoothie_mango', 'paella', 'manzana', 'snack_integral', 'smoothie_fresa', 'sandwich_jamon', 'tortilla_patata', 'yogurth_cereal']\n",
            "[5, 9, 7, 2, 0, 1, 4, 6, 3, 8, 14, 11, 10, 15, 13, 12, 16, 17]\n"
          ]
        }
      ],
      "source": [
        "#Preparar variables categóricas\n",
        "y=df['Labels'].values\n",
        "print(list(dict.fromkeys(y)))\n",
        "y_labelencoder = LabelEncoder ()\n",
        "y = y_labelencoder.fit_transform (y)\n",
        "print (list(dict.fromkeys(y)))\n"
      ]
    },
    {
      "cell_type": "code",
      "execution_count": 26,
      "metadata": {
        "id": "c3PmRs7nJSkc",
        "outputId": "e50935ec-2c84-4a71-c895-40ab4d42fa85",
        "colab": {
          "base_uri": "https://localhost:8080/"
        }
      },
      "outputs": [
        {
          "output_type": "stream",
          "name": "stdout",
          "text": [
            "[[0. 0. 0. ... 0. 0. 0.]\n",
            " [0. 0. 0. ... 0. 0. 0.]\n",
            " [0. 0. 0. ... 0. 0. 0.]\n",
            " ...\n",
            " [0. 0. 0. ... 0. 0. 1.]\n",
            " [0. 0. 0. ... 0. 0. 1.]\n",
            " [0. 0. 0. ... 0. 0. 1.]]\n"
          ]
        }
      ],
      "source": [
        "y=y.reshape(-1,1)\n",
        "ct = ColumnTransformer([('my_ohe', OneHotEncoder(), [0])], remainder='passthrough')\n",
        "Y = ct.fit_transform(y).toarray()\n",
        "print(Y[:])"
      ]
    },
    {
      "cell_type": "code",
      "execution_count": 27,
      "metadata": {
        "id": "5Z0q1DH5JSkd",
        "outputId": "5d6fabfb-a8da-4a5c-9926-c26a3e8d6091",
        "colab": {
          "base_uri": "https://localhost:8080/"
        }
      },
      "outputs": [
        {
          "output_type": "stream",
          "name": "stdout",
          "text": [
            "(1710, 224, 224, 3)\n",
            "(1710, 18)\n",
            "(90, 224, 224, 3)\n",
            "(90, 18)\n"
          ]
        }
      ],
      "source": [
        "#Preparar dataset y separar conjunto de entrenamiento y validación\n",
        "images, Y = shuffle(images, Y, random_state=1)\n",
        "train_x, test_x, train_y, test_y = train_test_split(images, Y, test_size=0.05, random_state=415)\n",
        "print(train_x.shape)\n",
        "print(train_y.shape)\n",
        "print(test_x.shape)\n",
        "print(test_y.shape)\n",
        "\n"
      ]
    },
    {
      "cell_type": "code",
      "execution_count": 28,
      "metadata": {
        "id": "0fdy8gTOJSkd",
        "colab": {
          "base_uri": "https://localhost:8080/"
        },
        "outputId": "0e2e5e55-5467-40ac-8fec-ea39a12c2146"
      },
      "outputs": [
        {
          "output_type": "stream",
          "name": "stdout",
          "text": [
            "Model: \"model_1\"\n",
            "_________________________________________________________________\n",
            " Layer (type)                Output Shape              Param #   \n",
            "=================================================================\n",
            " input_3 (InputLayer)        [(None, 224, 224, 3)]     0         \n",
            "                                                                 \n",
            " efficientnetb0 (Functional)  (None, 18)               4072629   \n",
            "                                                                 \n",
            "=================================================================\n",
            "Total params: 4,072,629\n",
            "Trainable params: 4,030,606\n",
            "Non-trainable params: 42,023\n",
            "_________________________________________________________________\n",
            "Epoch 1/30\n",
            "54/54 - 51s - loss: 2.7490 - accuracy: 0.2713 - 51s/epoch - 941ms/step\n",
            "Epoch 2/30\n",
            "54/54 - 38s - loss: 1.0770 - accuracy: 0.6795 - 38s/epoch - 711ms/step\n",
            "Epoch 3/30\n",
            "54/54 - 38s - loss: 0.3838 - accuracy: 0.8901 - 38s/epoch - 712ms/step\n",
            "Epoch 4/30\n",
            "54/54 - 39s - loss: 0.5689 - accuracy: 0.8825 - 39s/epoch - 716ms/step\n",
            "Epoch 5/30\n",
            "54/54 - 39s - loss: 0.1777 - accuracy: 0.9491 - 39s/epoch - 717ms/step\n",
            "Epoch 6/30\n",
            "54/54 - 38s - loss: 0.1535 - accuracy: 0.9550 - 38s/epoch - 708ms/step\n",
            "Epoch 7/30\n",
            "54/54 - 38s - loss: 0.0819 - accuracy: 0.9772 - 38s/epoch - 712ms/step\n",
            "Epoch 8/30\n",
            "54/54 - 39s - loss: 0.0499 - accuracy: 0.9871 - 39s/epoch - 716ms/step\n",
            "Epoch 9/30\n",
            "54/54 - 39s - loss: 0.0339 - accuracy: 0.9936 - 39s/epoch - 718ms/step\n",
            "Epoch 10/30\n",
            "54/54 - 38s - loss: 0.0470 - accuracy: 0.9871 - 38s/epoch - 711ms/step\n",
            "Epoch 11/30\n",
            "54/54 - 38s - loss: 0.0888 - accuracy: 0.9731 - 38s/epoch - 707ms/step\n",
            "Epoch 12/30\n",
            "54/54 - 39s - loss: 0.0983 - accuracy: 0.9743 - 39s/epoch - 717ms/step\n",
            "Epoch 13/30\n",
            "54/54 - 38s - loss: 0.0192 - accuracy: 0.9942 - 38s/epoch - 713ms/step\n",
            "Epoch 14/30\n",
            "54/54 - 38s - loss: 0.0430 - accuracy: 0.9889 - 38s/epoch - 703ms/step\n",
            "Epoch 15/30\n",
            "54/54 - 38s - loss: 0.0162 - accuracy: 0.9965 - 38s/epoch - 707ms/step\n",
            "Epoch 16/30\n",
            "54/54 - 39s - loss: 0.0097 - accuracy: 0.9971 - 39s/epoch - 715ms/step\n",
            "Epoch 17/30\n",
            "54/54 - 38s - loss: 0.0023 - accuracy: 1.0000 - 38s/epoch - 713ms/step\n",
            "Epoch 18/30\n",
            "54/54 - 38s - loss: 0.0095 - accuracy: 0.9971 - 38s/epoch - 708ms/step\n",
            "Epoch 19/30\n",
            "54/54 - 38s - loss: 0.0085 - accuracy: 0.9971 - 38s/epoch - 707ms/step\n",
            "Epoch 20/30\n",
            "54/54 - 38s - loss: 0.0095 - accuracy: 0.9982 - 38s/epoch - 713ms/step\n",
            "Epoch 21/30\n",
            "54/54 - 38s - loss: 0.0472 - accuracy: 0.9842 - 38s/epoch - 711ms/step\n",
            "Epoch 22/30\n",
            "54/54 - 38s - loss: 0.1683 - accuracy: 0.9620 - 38s/epoch - 707ms/step\n",
            "Epoch 23/30\n",
            "54/54 - 38s - loss: 0.0146 - accuracy: 0.9971 - 38s/epoch - 708ms/step\n",
            "Epoch 24/30\n",
            "54/54 - 39s - loss: 0.0105 - accuracy: 0.9988 - 39s/epoch - 717ms/step\n",
            "Epoch 25/30\n",
            "54/54 - 39s - loss: 0.0128 - accuracy: 0.9965 - 39s/epoch - 714ms/step\n",
            "Epoch 26/30\n",
            "54/54 - 38s - loss: 0.0127 - accuracy: 0.9959 - 38s/epoch - 706ms/step\n",
            "Epoch 27/30\n",
            "54/54 - 38s - loss: 0.0453 - accuracy: 0.9877 - 38s/epoch - 708ms/step\n",
            "Epoch 28/30\n",
            "54/54 - 39s - loss: 0.0127 - accuracy: 0.9959 - 39s/epoch - 715ms/step\n",
            "Epoch 29/30\n",
            "54/54 - 39s - loss: 0.0145 - accuracy: 0.9965 - 39s/epoch - 715ms/step\n",
            "Epoch 30/30\n",
            "54/54 - 38s - loss: 0.0048 - accuracy: 0.9982 - 38s/epoch - 706ms/step\n"
          ]
        }
      ],
      "source": [
        "#Implementar EfficientNet\n",
        "NUM_CLASSES = 18\n",
        "IMG_SIZE = 224\n",
        "size = (IMG_SIZE, IMG_SIZE)\n",
        "inputs = layers.Input(shape=(IMG_SIZE, IMG_SIZE, 3))\n",
        "outputs = EfficientNetB0(include_top=True, weights=None, classes=NUM_CLASSES)(inputs)\n",
        "model = tf.keras.Model(inputs, outputs)\n",
        "model.compile(optimizer=\"adam\", loss=\"categorical_crossentropy\", metrics=[\"accuracy\"] )\n",
        "model.summary()\n",
        "#En este ds tarda 1 min por epoch. En el original son 30 min por epoch.\n",
        "hist = model.fit(train_x, train_y, epochs=30, verbose=2) "
      ]
    },
    {
      "cell_type": "code",
      "execution_count": 29,
      "metadata": {
        "id": "ikWzkriWJSke",
        "outputId": "601ccc0a-f55e-4527-eee0-96150895d24b",
        "colab": {
          "base_uri": "https://localhost:8080/",
          "height": 295
        }
      },
      "outputs": [
        {
          "output_type": "display_data",
          "data": {
            "text/plain": [
              "<Figure size 432x288 with 1 Axes>"
            ],
            "image/png": "[encoded data removed]"
          },
          "metadata": {
            "needs_background": "light"
          }
        }
      ],
      "source": [
        "#Precisión en cada entrenamiento\n",
        "def plot_hist(hist):\n",
        "    plt.plot(hist.history[\"accuracy\"])\n",
        "    plt.title(\"model accuracy\")\n",
        "    plt.ylabel(\"accuracy\")\n",
        "    plt.xlabel(\"epoch\")\n",
        "    plt.legend([\"train\", \"validation\"], loc=\"upper left\")\n",
        "    plt.show()\n",
        "plot_hist(hist)"
      ]
    },
    {
      "cell_type": "code",
      "execution_count": 30,
      "metadata": {
        "id": "WoRvepqDJSke",
        "outputId": "129c423f-db8b-4769-e271-8cfaf2fca400",
        "colab": {
          "base_uri": "https://localhost:8080/"
        }
      },
      "outputs": [
        {
          "output_type": "stream",
          "name": "stdout",
          "text": [
            "3/3 [==============================] - 3s 620ms/step - loss: 11.0275 - accuracy: 0.4333\n",
            "Loss = 11.027514457702637\n",
            "Test Accuracy = 0.4333333373069763\n"
          ]
        }
      ],
      "source": [
        "preds = model.evaluate(test_x, test_y)\n",
        "print (\"Loss = \" + str(preds[0]))\n",
        "print (\"Test Accuracy = \" + str(preds[1]))"
      ]
    },
    {
      "cell_type": "code",
      "execution_count": 31,
      "metadata": {
        "id": "hcuopTCmJSkf",
        "outputId": "b1bd9522-90bf-45c0-c0c4-f0a0ad98c221",
        "colab": {
          "base_uri": "https://localhost:8080/",
          "height": 305
        }
      },
      "outputs": [
        {
          "output_type": "stream",
          "name": "stdout",
          "text": [
            "Input image shape: (1, 224, 224, 3)\n"
          ]
        },
        {
          "output_type": "execute_result",
          "data": {
            "text/plain": [
              "<matplotlib.image.AxesImage at 0x7efd638494d0>"
            ]
          },
          "metadata": {},
          "execution_count": 31
        },
        {
          "output_type": "display_data",
          "data": {
            "text/plain": [
              "<Figure size 432x288 with 1 Axes>"
            ],
            "image/png": "[encoded data removed]"
          },
          "metadata": {
            "needs_background": "light"
          }
        }
      ],
      "source": [
        "img_path = 'drive/MyDrive/MTDI_TFM/PICKIOSET/originales/IMG_8406.JPG'\n",
        "img = cv2.imread(img_path)\n",
        "img = cv2.resize(img, (224, 224))\n",
        "x = np.expand_dims(img, axis=0)\n",
        "x = preprocess_input(x)\n",
        "print('Input image shape:', x.shape)\n",
        "\n",
        "my_image = imread(img_path)\n",
        "imshow(my_image)"
      ]
    },
    {
      "cell_type": "code",
      "execution_count": 33,
      "metadata": {
        "id": "H9_GIM1nJSkf",
        "outputId": "686e02ae-9206-4e20-be98-8c38c218258e",
        "colab": {
          "base_uri": "https://localhost:8080/"
        }
      },
      "outputs": [
        {
          "output_type": "stream",
          "name": "stdout",
          "text": [
            "['fanta_limon', 'hummus_pimiento', 'gazpacho', 'crema_calabaza', 'botella_agua', 'coca_cola', 'ensalada_rusa', 'fanta_naranja', 'ensalada_cangrejo', 'guisantes_jamon', 'smoothie_mango', 'paella', 'manzana', 'snack_integral', 'smoothie_fresa', 'sandwich_jamon', 'tortilla_patata', 'yogurth_cereal']\n"
          ]
        },
        {
          "output_type": "execute_result",
          "data": {
            "text/plain": [
              "array([[0., 0., 0., 0., 0., 0., 0., 0., 0., 0., 0., 1., 0., 0., 0., 0.,\n",
              "        0., 0.]], dtype=float32)"
            ]
          },
          "metadata": {},
          "execution_count": 33
        }
      ],
      "source": [
        "print (ds_path)\n",
        "preds=model.predict(x)\n",
        "preds  "
      ]
    }
  ],
  "metadata": {
    "kernelspec": {
      "display_name": "Python 3",
      "language": "python",
      "name": "python3"
    },
    "language_info": {
      "codemirror_mode": {
        "name": "ipython",
        "version": 3
      },
      "file_extension": ".py",
      "mimetype": "text/x-python",
      "name": "python",
      "nbconvert_exporter": "python",
      "pygments_lexer": "ipython3",
      "version": "3.7.6"
    },
    "colab": {
      "name": "EfficientNetB0_CC.ipynb",
      "provenance": [],
      "collapsed_sections": [],
      "include_colab_link": true
    },
    "accelerator": "GPU"
  },
  "nbformat": 4,
  "nbformat_minor": 0
}
