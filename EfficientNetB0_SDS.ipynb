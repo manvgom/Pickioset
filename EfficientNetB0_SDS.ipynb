{
  "cells": [
    {
      "cell_type": "markdown",
      "metadata": {
        "id": "view-in-github",
        "colab_type": "text"
      },
      "source": [
        "<a href=\"https://colab.research.google.com/github/manvgom/Pickioset/blob/main/EfficientNetB0_BA.ipynb\" target=\"_parent\"><img src=\"https://colab.research.google.com/assets/colab-badge.svg\" alt=\"Open In Colab\"/></a>"
      ]
    },
    {
      "cell_type": "code",
      "source": [
        "%reset"
      ],
      "metadata": {
        "colab": {
          "base_uri": "https://localhost:8080/"
        },
        "id": "H7TdpxA5LSMd",
        "outputId": "fdb46df8-28d7-4d96-dfbb-67f96d514527"
      },
      "execution_count": 1,
      "outputs": [
        {
          "name": "stdout",
          "output_type": "stream",
          "text": [
            "Once deleted, variables cannot be recovered. Proceed (y/[n])? y\n"
          ]
        }
      ]
    },
    {
      "cell_type": "code",
      "source": [
        "from google.colab import drive\n",
        "drive.mount('/content/drive', force_remount=True)"
      ],
      "metadata": {
        "colab": {
          "base_uri": "https://localhost:8080/"
        },
        "id": "NmX7imFXMADl",
        "outputId": "08198ff9-1e0a-4867-fe9f-4a0ea748ac13"
      },
      "execution_count": 2,
      "outputs": [
        {
          "output_type": "stream",
          "name": "stdout",
          "text": [
            "Mounted at /content/drive\n"
          ]
        }
      ]
    },
    {
      "cell_type": "code",
      "source": [
        "import numpy as np\n",
        "import tensorflow as tf\n",
        "import numpy as np \n",
        "import pandas as pd \n",
        "import matplotlib.pyplot as plt\n",
        "\n",
        "from matplotlib.pyplot import imread\n",
        "from matplotlib.pyplot import imshow\n",
        "\n",
        "from sklearn.preprocessing import LabelEncoder , OneHotEncoder\n",
        "from sklearn.compose import ColumnTransformer\n",
        "from sklearn.utils import shuffle\n",
        "from sklearn.model_selection import train_test_split\n",
        "\n",
        "from tensorflow import keras\n",
        "from tensorflow.keras import layers\n",
        "from tensorflow.keras.preprocessing import image\n",
        "from tensorflow.keras.applications import EfficientNetB0\n",
        "from tensorflow.keras.applications.imagenet_utils import decode_predictions\n",
        "from tensorflow.keras.applications.imagenet_utils import preprocess_input\n",
        "\n",
        "import cv2\n",
        "import os"
      ],
      "metadata": {
        "id": "6oDzK1cnQXzc"
      },
      "execution_count": 3,
      "outputs": []
    },
    {
      "cell_type": "code",
      "execution_count": 4,
      "metadata": {
        "id": "8a62FSulJSka",
        "outputId": "548c5091-5c22-405b-ccdd-ad072e06a81f",
        "colab": {
          "base_uri": "https://localhost:8080/"
        }
      },
      "outputs": [
        {
          "output_type": "stream",
          "name": "stdout",
          "text": [
            "['hummus_pimiento', 'coca_cola', 'crema_calabaza', 'gazpacho', 'botella_agua', 'ensalada_cangrejo']\n",
            "Types of classes labels found:  6\n"
          ]
        }
      ],
      "source": [
        "#Definir categorias\n",
        "ds_path = os.listdir('drive/MyDrive/MTDI_TFM/PICKIOSET/smalldataset')\n",
        "print (ds_path)\n",
        "print(\"Types of classes labels found: \", len(ds_path))"
      ]
    },
    {
      "cell_type": "code",
      "execution_count": 5,
      "metadata": {
        "id": "bGwSqg-WJSka",
        "colab": {
          "base_uri": "https://localhost:8080/",
          "height": 424
        },
        "outputId": "81de873b-aee8-438a-9547-af0cd5422fa0"
      },
      "outputs": [
        {
          "output_type": "execute_result",
          "data": {
            "text/plain": [
              "                Labels                                              image\n",
              "0      hummus_pimiento              ds_path/hummus_pimiento/hummus_53.jpg\n",
              "1      hummus_pimiento              ds_path/hummus_pimiento/hummus_51.jpg\n",
              "2      hummus_pimiento              ds_path/hummus_pimiento/hummus_50.jpg\n",
              "3      hummus_pimiento              ds_path/hummus_pimiento/hummus_55.jpg\n",
              "4      hummus_pimiento              ds_path/hummus_pimiento/hummus_58.jpg\n",
              "..                 ...                                                ...\n",
              "175  ensalada_cangrejo  ds_path/ensalada_cangrejo/ensaladacangrejo_92.jpg\n",
              "176  ensalada_cangrejo  ds_path/ensalada_cangrejo/ensaladacangrejo_93.jpg\n",
              "177  ensalada_cangrejo  ds_path/ensalada_cangrejo/ensaladacangrejo_98.jpg\n",
              "178  ensalada_cangrejo  ds_path/ensalada_cangrejo/ensaladacangrejo_95.jpg\n",
              "179  ensalada_cangrejo  ds_path/ensalada_cangrejo/ensaladacangrejo_53.jpg\n",
              "\n",
              "[180 rows x 2 columns]"
            ],
            "text/html": [
              "\n",
              "  <div id=\"df-4af37d26-e430-4436-a067-b5b98b2c5daa\">\n",
              "    <div class=\"colab-df-container\">\n",
              "      <div>\n",
              "<style scoped>\n",
              "    .dataframe tbody tr th:only-of-type {\n",
              "        vertical-align: middle;\n",
              "    }\n",
              "\n",
              "    .dataframe tbody tr th {\n",
              "        vertical-align: top;\n",
              "    }\n",
              "\n",
              "    .dataframe thead th {\n",
              "        text-align: right;\n",
              "    }\n",
              "</style>\n",
              "<table border=\"1\" class=\"dataframe\">\n",
              "  <thead>\n",
              "    <tr style=\"text-align: right;\">\n",
              "      <th></th>\n",
              "      <th>Labels</th>\n",
              "      <th>image</th>\n",
              "    </tr>\n",
              "  </thead>\n",
              "  <tbody>\n",
              "    <tr>\n",
              "      <th>0</th>\n",
              "      <td>hummus_pimiento</td>\n",
              "      <td>ds_path/hummus_pimiento/hummus_53.jpg</td>\n",
              "    </tr>\n",
              "    <tr>\n",
              "      <th>1</th>\n",
              "      <td>hummus_pimiento</td>\n",
              "      <td>ds_path/hummus_pimiento/hummus_51.jpg</td>\n",
              "    </tr>\n",
              "    <tr>\n",
              "      <th>2</th>\n",
              "      <td>hummus_pimiento</td>\n",
              "      <td>ds_path/hummus_pimiento/hummus_50.jpg</td>\n",
              "    </tr>\n",
              "    <tr>\n",
              "      <th>3</th>\n",
              "      <td>hummus_pimiento</td>\n",
              "      <td>ds_path/hummus_pimiento/hummus_55.jpg</td>\n",
              "    </tr>\n",
              "    <tr>\n",
              "      <th>4</th>\n",
              "      <td>hummus_pimiento</td>\n",
              "      <td>ds_path/hummus_pimiento/hummus_58.jpg</td>\n",
              "    </tr>\n",
              "    <tr>\n",
              "      <th>...</th>\n",
              "      <td>...</td>\n",
              "      <td>...</td>\n",
              "    </tr>\n",
              "    <tr>\n",
              "      <th>175</th>\n",
              "      <td>ensalada_cangrejo</td>\n",
              "      <td>ds_path/ensalada_cangrejo/ensaladacangrejo_92.jpg</td>\n",
              "    </tr>\n",
              "    <tr>\n",
              "      <th>176</th>\n",
              "      <td>ensalada_cangrejo</td>\n",
              "      <td>ds_path/ensalada_cangrejo/ensaladacangrejo_93.jpg</td>\n",
              "    </tr>\n",
              "    <tr>\n",
              "      <th>177</th>\n",
              "      <td>ensalada_cangrejo</td>\n",
              "      <td>ds_path/ensalada_cangrejo/ensaladacangrejo_98.jpg</td>\n",
              "    </tr>\n",
              "    <tr>\n",
              "      <th>178</th>\n",
              "      <td>ensalada_cangrejo</td>\n",
              "      <td>ds_path/ensalada_cangrejo/ensaladacangrejo_95.jpg</td>\n",
              "    </tr>\n",
              "    <tr>\n",
              "      <th>179</th>\n",
              "      <td>ensalada_cangrejo</td>\n",
              "      <td>ds_path/ensalada_cangrejo/ensaladacangrejo_53.jpg</td>\n",
              "    </tr>\n",
              "  </tbody>\n",
              "</table>\n",
              "<p>180 rows × 2 columns</p>\n",
              "</div>\n",
              "      <button class=\"colab-df-convert\" onclick=\"convertToInteractive('df-4af37d26-e430-4436-a067-b5b98b2c5daa')\"\n",
              "              title=\"Convert this dataframe to an interactive table.\"\n",
              "              style=\"display:none;\">\n",
              "        \n",
              "  <svg xmlns=\"http://www.w3.org/2000/svg\" height=\"24px\"viewBox=\"0 0 24 24\"\n",
              "       width=\"24px\">\n",
              "    <path d=\"M0 0h24v24H0V0z\" fill=\"none\"/>\n",
              "    <path d=\"M18.56 5.44l.94 2.06.94-2.06 2.06-.94-2.06-.94-.94-2.06-.94 2.06-2.06.94zm-11 1L8.5 8.5l.94-2.06 2.06-.94-2.06-.94L8.5 2.5l-.94 2.06-2.06.94zm10 10l.94 2.06.94-2.06 2.06-.94-2.06-.94-.94-2.06-.94 2.06-2.06.94z\"/><path d=\"M17.41 7.96l-1.37-1.37c-.4-.4-.92-.59-1.43-.59-.52 0-1.04.2-1.43.59L10.3 9.45l-7.72 7.72c-.78.78-.78 2.05 0 2.83L4 21.41c.39.39.9.59 1.41.59.51 0 1.02-.2 1.41-.59l7.78-7.78 2.81-2.81c.8-.78.8-2.07 0-2.86zM5.41 20L4 18.59l7.72-7.72 1.47 1.35L5.41 20z\"/>\n",
              "  </svg>\n",
              "      </button>\n",
              "      \n",
              "  <style>\n",
              "    .colab-df-container {\n",
              "      display:flex;\n",
              "      flex-wrap:wrap;\n",
              "      gap: 12px;\n",
              "    }\n",
              "\n",
              "    .colab-df-convert {\n",
              "      background-color: #E8F0FE;\n",
              "      border: none;\n",
              "      border-radius: 50%;\n",
              "      cursor: pointer;\n",
              "      display: none;\n",
              "      fill: #1967D2;\n",
              "      height: 32px;\n",
              "      padding: 0 0 0 0;\n",
              "      width: 32px;\n",
              "    }\n",
              "\n",
              "    .colab-df-convert:hover {\n",
              "      background-color: #E2EBFA;\n",
              "      box-shadow: 0px 1px 2px rgba(60, 64, 67, 0.3), 0px 1px 3px 1px rgba(60, 64, 67, 0.15);\n",
              "      fill: #174EA6;\n",
              "    }\n",
              "\n",
              "    [theme=dark] .colab-df-convert {\n",
              "      background-color: #3B4455;\n",
              "      fill: #D2E3FC;\n",
              "    }\n",
              "\n",
              "    [theme=dark] .colab-df-convert:hover {\n",
              "      background-color: #434B5C;\n",
              "      box-shadow: 0px 1px 3px 1px rgba(0, 0, 0, 0.15);\n",
              "      filter: drop-shadow(0px 1px 2px rgba(0, 0, 0, 0.3));\n",
              "      fill: #FFFFFF;\n",
              "    }\n",
              "  </style>\n",
              "\n",
              "      <script>\n",
              "        const buttonEl =\n",
              "          document.querySelector('#df-4af37d26-e430-4436-a067-b5b98b2c5daa button.colab-df-convert');\n",
              "        buttonEl.style.display =\n",
              "          google.colab.kernel.accessAllowed ? 'block' : 'none';\n",
              "\n",
              "        async function convertToInteractive(key) {\n",
              "          const element = document.querySelector('#df-4af37d26-e430-4436-a067-b5b98b2c5daa');\n",
              "          const dataTable =\n",
              "            await google.colab.kernel.invokeFunction('convertToInteractive',\n",
              "                                                     [key], {});\n",
              "          if (!dataTable) return;\n",
              "\n",
              "          const docLinkHtml = 'Like what you see? Visit the ' +\n",
              "            '<a target=\"_blank\" href=https://colab.research.google.com/notebooks/data_table.ipynb>data table notebook</a>'\n",
              "            + ' to learn more about interactive tables.';\n",
              "          element.innerHTML = '';\n",
              "          dataTable['output_type'] = 'display_data';\n",
              "          await google.colab.output.renderOutput(dataTable, element);\n",
              "          const docLink = document.createElement('div');\n",
              "          docLink.innerHTML = docLinkHtml;\n",
              "          element.appendChild(docLink);\n",
              "        }\n",
              "      </script>\n",
              "    </div>\n",
              "  </div>\n",
              "  "
            ]
          },
          "metadata": {},
          "execution_count": 5
        }
      ],
      "source": [
        "#Generar dataframe con muestras y categorias\n",
        "class_labels = []\n",
        "for item in ds_path:\n",
        " all_classes = os.listdir('drive/MyDrive/MTDI_TFM/PICKIOSET/smalldataset' + '/' +item)\n",
        " for room in all_classes:\n",
        "  class_labels.append((item, str('ds_path' + '/' +item) + '/' + room))\n",
        "df = pd.DataFrame(data=class_labels, columns=['Labels', 'image'])\n",
        "df"
      ]
    },
    {
      "cell_type": "code",
      "execution_count": 6,
      "metadata": {
        "id": "5UiY6iX1JSkb",
        "outputId": "a98c2314-8047-4ba3-9e56-af1bd2a28807",
        "colab": {
          "base_uri": "https://localhost:8080/"
        }
      },
      "outputs": [
        {
          "output_type": "stream",
          "name": "stdout",
          "text": [
            "Total number of images in the dataset:  180\n",
            "hummus_pimiento      30\n",
            "coca_cola            30\n",
            "crema_calabaza       30\n",
            "gazpacho             30\n",
            "botella_agua         30\n",
            "ensalada_cangrejo    30\n",
            "Name: Labels, dtype: int64\n"
          ]
        }
      ],
      "source": [
        " #Número de muestras por categoria\n",
        "print(\"Total number of images in the dataset: \", len(df))\n",
        "label_count = df['Labels'].value_counts()\n",
        "print(label_count)"
      ]
    },
    {
      "cell_type": "code",
      "execution_count": 7,
      "metadata": {
        "id": "WZnng9nUJSkb"
      },
      "outputs": [],
      "source": [
        "#Escalar las imagenes\n",
        "path = 'drive/MyDrive/MTDI_TFM/PICKIOSET/smalldataset/'\n",
        "dataset_path = os.listdir('drive/MyDrive/MTDI_TFM/PICKIOSET/smalldataset')\n",
        "  \n",
        "img_size = 224\n",
        "\n",
        "images = []\n",
        "labels = []\n",
        "\n",
        "for i in dataset_path:\n",
        "    data_path = path + str(i)  \n",
        "    filenames = [i for i in os.listdir(data_path) ]\n",
        "   \n",
        "    for f in filenames:\n",
        "        img = cv2.imread(data_path + '/' + f)\n",
        "        img = cv2.resize(img, (img_size, img_size))\n",
        "        images.append(img)\n",
        "        labels.append(i)"
      ]
    },
    {
      "cell_type": "code",
      "execution_count": 8,
      "metadata": {
        "id": "BeieKg2kJSkc",
        "outputId": "9d84ab83-13bf-4d74-ff4e-f8f18cdf4aaf",
        "colab": {
          "base_uri": "https://localhost:8080/"
        }
      },
      "outputs": [
        {
          "output_type": "execute_result",
          "data": {
            "text/plain": [
              "(180, 224, 224, 3)"
            ]
          },
          "metadata": {},
          "execution_count": 8
        }
      ],
      "source": [
        "images = np.array(images)\n",
        "images = images.astype('float32') / 255.0\n",
        "images.shape"
      ]
    },
    {
      "cell_type": "code",
      "execution_count": 9,
      "metadata": {
        "id": "x5eBkolEJSkc",
        "outputId": "2f2b4462-77ed-4411-fe05-10b3c88a1772",
        "colab": {
          "base_uri": "https://localhost:8080/"
        }
      },
      "outputs": [
        {
          "output_type": "stream",
          "name": "stdout",
          "text": [
            "['hummus_pimiento', 'coca_cola', 'crema_calabaza', 'gazpacho', 'botella_agua', 'ensalada_cangrejo']\n",
            "[5, 1, 2, 4, 0, 3]\n"
          ]
        }
      ],
      "source": [
        "#Preparar variables categóricas\n",
        "y=df['Labels'].values\n",
        "print(list(dict.fromkeys(y)))\n",
        "y_labelencoder = LabelEncoder ()\n",
        "y = y_labelencoder.fit_transform (y)\n",
        "print (list(dict.fromkeys(y)))\n"
      ]
    },
    {
      "cell_type": "code",
      "execution_count": 10,
      "metadata": {
        "id": "c3PmRs7nJSkc",
        "outputId": "c1ec9524-fb79-4df0-e4c2-aea6da1314aa",
        "colab": {
          "base_uri": "https://localhost:8080/"
        }
      },
      "outputs": [
        {
          "output_type": "stream",
          "name": "stdout",
          "text": [
            "[[0. 0. 0. 0. 0. 1.]\n",
            " [0. 0. 0. 0. 0. 1.]\n",
            " [0. 0. 0. 0. 0. 1.]\n",
            " ...\n",
            " [0. 0. 0. 1. 0. 0.]\n",
            " [0. 0. 0. 1. 0. 0.]\n",
            " [0. 0. 0. 1. 0. 0.]]\n"
          ]
        }
      ],
      "source": [
        "y=y.reshape(-1,1)\n",
        "ct = ColumnTransformer([('my_ohe', OneHotEncoder(), [0])], remainder='passthrough')\n",
        "Y = ct.fit_transform(y).toarray()\n",
        "print(Y[:])"
      ]
    },
    {
      "cell_type": "code",
      "execution_count": 11,
      "metadata": {
        "id": "5Z0q1DH5JSkd",
        "outputId": "6d05e805-bed8-482f-8434-c9befed242e2",
        "colab": {
          "base_uri": "https://localhost:8080/"
        }
      },
      "outputs": [
        {
          "output_type": "stream",
          "name": "stdout",
          "text": [
            "(171, 224, 224, 3)\n",
            "(171, 6)\n",
            "(9, 224, 224, 3)\n",
            "(9, 6)\n"
          ]
        }
      ],
      "source": [
        "#Preparar dataset y separar conjunto de entrenamiento y validación\n",
        "images, Y = shuffle(images, Y, random_state=1)\n",
        "train_x, test_x, train_y, test_y = train_test_split(images, Y, test_size=0.05, random_state=415)\n",
        "print(train_x.shape)\n",
        "print(train_y.shape)\n",
        "print(test_x.shape)\n",
        "print(test_y.shape)\n",
        "\n"
      ]
    },
    {
      "cell_type": "code",
      "execution_count": 12,
      "metadata": {
        "id": "0fdy8gTOJSkd",
        "colab": {
          "base_uri": "https://localhost:8080/"
        },
        "outputId": "fd609681-5b50-4304-a069-46dbb5a8507f"
      },
      "outputs": [
        {
          "output_type": "stream",
          "name": "stdout",
          "text": [
            "Model: \"model\"\n",
            "_________________________________________________________________\n",
            " Layer (type)                Output Shape              Param #   \n",
            "=================================================================\n",
            " input_1 (InputLayer)        [(None, 224, 224, 3)]     0         \n",
            "                                                                 \n",
            " efficientnetb0 (Functional)  (None, 6)                4057257   \n",
            "                                                                 \n",
            "=================================================================\n",
            "Total params: 4,057,257\n",
            "Trainable params: 4,015,234\n",
            "Non-trainable params: 42,023\n",
            "_________________________________________________________________\n",
            "Epoch 1/5\n",
            "6/6 - 51s - loss: 3.8163 - accuracy: 0.3450 - 51s/epoch - 8s/step\n",
            "Epoch 2/5\n",
            "6/6 - 40s - loss: 2.0461 - accuracy: 0.5146 - 40s/epoch - 7s/step\n",
            "Epoch 3/5\n",
            "6/6 - 39s - loss: 1.3105 - accuracy: 0.6901 - 39s/epoch - 6s/step\n",
            "Epoch 4/5\n",
            "6/6 - 39s - loss: 1.4650 - accuracy: 0.7778 - 39s/epoch - 6s/step\n",
            "Epoch 5/5\n",
            "6/6 - 40s - loss: 0.6760 - accuracy: 0.8480 - 40s/epoch - 7s/step\n"
          ]
        }
      ],
      "source": [
        "#Implementar EfficientNet\n",
        "NUM_CLASSES = 6\n",
        "IMG_SIZE = 224\n",
        "size = (IMG_SIZE, IMG_SIZE)\n",
        "inputs = layers.Input(shape=(IMG_SIZE, IMG_SIZE, 3))\n",
        "outputs = EfficientNetB0(include_top=True, weights=None, classes=NUM_CLASSES)(inputs)\n",
        "model = tf.keras.Model(inputs, outputs)\n",
        "model.compile(optimizer=\"adam\", loss=\"categorical_crossentropy\", metrics=[\"accuracy\"] )\n",
        "model.summary()\n",
        "#En este ds tarda 1 min por epoch. En el original son 30 min por epoch.\n",
        "hist = model.fit(train_x, train_y, epochs=5, verbose=2) "
      ]
    },
    {
      "cell_type": "code",
      "execution_count": 13,
      "metadata": {
        "id": "ikWzkriWJSke",
        "outputId": "d2e5b512-2579-4e59-e19f-84807b33a289",
        "colab": {
          "base_uri": "https://localhost:8080/",
          "height": 295
        }
      },
      "outputs": [
        {
          "output_type": "display_data",
          "data": {
            "text/plain": [
              "<Figure size 432x288 with 1 Axes>"
            ],
            "image/png": "[encoded data removed]"
          },
          "metadata": {
            "needs_background": "light"
          }
        }
      ],
      "source": [
        "#Precisión en cada entrenamiento\n",
        "def plot_hist(hist):\n",
        "    plt.plot(hist.history[\"accuracy\"])\n",
        "    plt.title(\"model accuracy\")\n",
        "    plt.ylabel(\"accuracy\")\n",
        "    plt.xlabel(\"epoch\")\n",
        "    plt.legend([\"train\", \"validation\"], loc=\"upper left\")\n",
        "    plt.show()\n",
        "plot_hist(hist)"
      ]
    },
    {
      "cell_type": "code",
      "execution_count": 14,
      "metadata": {
        "id": "WoRvepqDJSke",
        "outputId": "cd23b626-a632-45ac-a4b7-3b3cbdfc07d2",
        "colab": {
          "base_uri": "https://localhost:8080/"
        }
      },
      "outputs": [
        {
          "output_type": "stream",
          "name": "stdout",
          "text": [
            "1/1 [==============================] - 2s 2s/step - loss: 2.8491 - accuracy: 0.2222\n",
            "Loss = 2.849090099334717\n",
            "Test Accuracy = 0.2222222238779068\n"
          ]
        }
      ],
      "source": [
        "preds = model.evaluate(test_x, test_y)\n",
        "print (\"Loss = \" + str(preds[0]))\n",
        "print (\"Test Accuracy = \" + str(preds[1]))"
      ]
    },
    {
      "cell_type": "code",
      "execution_count": 15,
      "metadata": {
        "id": "hcuopTCmJSkf",
        "outputId": "df62894a-1468-44d5-8244-d19b0bd281e6",
        "colab": {
          "base_uri": "https://localhost:8080/",
          "height": 305
        }
      },
      "outputs": [
        {
          "output_type": "stream",
          "name": "stdout",
          "text": [
            "Input image shape: (1, 224, 224, 3)\n"
          ]
        },
        {
          "output_type": "execute_result",
          "data": {
            "text/plain": [
              "<matplotlib.image.AxesImage at 0x7f5cc9cbfe10>"
            ]
          },
          "metadata": {},
          "execution_count": 15
        },
        {
          "output_type": "display_data",
          "data": {
            "text/plain": [
              "<Figure size 432x288 with 1 Axes>"
            ],
            "image/png": "[encoded data removed]"
          },
          "metadata": {
            "needs_background": "light"
          }
        }
      ],
      "source": [
        "img_path = 'drive/MyDrive/MTDI_TFM/PICKIOSET/dataset/botella_agua/agua_48.jpg'\n",
        "img = cv2.imread(img_path)\n",
        "img = cv2.resize(img, (224, 224))\n",
        "x = np.expand_dims(img, axis=0)\n",
        "x = preprocess_input(x)\n",
        "print('Input image shape:', x.shape)\n",
        "\n",
        "my_image = imread(img_path)\n",
        "imshow(my_image)"
      ]
    },
    {
      "cell_type": "code",
      "execution_count": 16,
      "metadata": {
        "id": "H9_GIM1nJSkf",
        "outputId": "3e0cd946-0dd5-4e7f-b210-c30573546dcc",
        "colab": {
          "base_uri": "https://localhost:8080/"
        }
      },
      "outputs": [
        {
          "output_type": "execute_result",
          "data": {
            "text/plain": [
              "array([[0.5062335 , 0.29293954, 0.14285168, 0.02313996, 0.03431622,\n",
              "        0.00051911]], dtype=float32)"
            ]
          },
          "metadata": {},
          "execution_count": 16
        }
      ],
      "source": [
        "preds=model.predict(x)\n",
        "preds  "
      ]
    }
  ],
  "metadata": {
    "kernelspec": {
      "display_name": "Python 3",
      "language": "python",
      "name": "python3"
    },
    "language_info": {
      "codemirror_mode": {
        "name": "ipython",
        "version": 3
      },
      "file_extension": ".py",
      "mimetype": "text/x-python",
      "name": "python",
      "nbconvert_exporter": "python",
      "pygments_lexer": "ipython3",
      "version": "3.7.6"
    },
    "colab": {
      "name": "EfficientNetB0_BA.ipynb",
      "provenance": [],
      "collapsed_sections": [],
      "include_colab_link": true
    },
    "accelerator": "TPU"
  },
  "nbformat": 4,
  "nbformat_minor": 0
}
