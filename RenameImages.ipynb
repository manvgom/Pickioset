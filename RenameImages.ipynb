{
  "nbformat": 4,
  "nbformat_minor": 0,
  "metadata": {
    "colab": {
      "name": "RenameImages.ipynb",
      "provenance": [],
      "authorship_tag": "ABX9TyPQOe1Sb5Xau7p3uEALi+gV",
      "include_colab_link": true
    },
    "kernelspec": {
      "name": "python3",
      "display_name": "Python 3"
    },
    "language_info": {
      "name": "python"
    },
    "accelerator": "TPU"
  },
  "cells": [
    {
      "cell_type": "markdown",
      "metadata": {
        "id": "view-in-github",
        "colab_type": "text"
      },
      "source": [
        "<a href=\"https://colab.research.google.com/github/manvgom/Pickioset/blob/main/RenameImages.ipynb\" target=\"_parent\"><img src=\"https://colab.research.google.com/assets/colab-badge.svg\" alt=\"Open In Colab\"/></a>"
      ]
    },
    {
      "cell_type": "code",
      "execution_count": 1,
      "metadata": {
        "colab": {
          "base_uri": "https://localhost:8080/"
        },
        "id": "6DQz0repQI5Z",
        "outputId": "0bdcf695-b0ad-4546-bbb4-57fb0617a72a"
      },
      "outputs": [
        {
          "output_type": "stream",
          "name": "stdout",
          "text": [
            "Once deleted, variables cannot be recovered. Proceed (y/[n])? y\n",
            "Mounted at /content/drive\n",
            "/content/drive/MyDrive/MTDI_TFM/PICKIOSET/imagenes\n"
          ]
        }
      ],
      "source": [
        "%reset \n",
        "from google.colab import drive\n",
        "drive.mount('/content/drive',force_remount=True)\n",
        "%cd drive/MyDrive/MTDI_TFM/PICKIOSET/imagenes"
      ]
    },
    {
      "cell_type": "code",
      "source": [
        "import os\n",
        "os.getcwd()\n",
        "clase = os.listdir()\n",
        "for clase in clase:\n",
        "  collection = clase\n",
        "  for i, filename in enumerate(os.listdir(collection)):\n",
        "    os.rename(collection +\"/\" + filename, collection + \"/\" + str(i) + \".jpg\")"
      ],
      "metadata": {
        "id": "Pd8FZdykQLXX"
      },
      "execution_count": 10,
      "outputs": []
    }
  ]
}