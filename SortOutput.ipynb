{
  "nbformat": 4,
  "nbformat_minor": 0,
  "metadata": {
    "colab": {
      "name": "SortOutput.ipynb",
      "provenance": [],
      "collapsed_sections": [],
      "authorship_tag": "ABX9TyN246EhyHv4R4nedai4aTC2",
      "include_colab_link": true
    },
    "kernelspec": {
      "name": "python3",
      "display_name": "Python 3"
    },
    "language_info": {
      "name": "python"
    }
  },
  "cells": [
    {
      "cell_type": "markdown",
      "metadata": {
        "id": "view-in-github",
        "colab_type": "text"
      },
      "source": [
        "<a href=\"https://colab.research.google.com/github/manvgom/Pickioset/blob/main/SortOutput.ipynb\" target=\"_parent\"><img src=\"https://colab.research.google.com/assets/colab-badge.svg\" alt=\"Open In Colab\"/></a>"
      ]
    },
    {
      "cell_type": "code",
      "execution_count": 1,
      "metadata": {
        "colab": {
          "base_uri": "https://localhost:8080/"
        },
        "id": "NjFcq9brrhOp",
        "outputId": "eecb4510-cd1c-4c24-ce47-91a7caa95b58"
      },
      "outputs": [
        {
          "output_type": "stream",
          "name": "stdout",
          "text": [
            "Mounted at /content/drive\n"
          ]
        }
      ],
      "source": [
        "from google.colab import drive\n",
        "drive.mount('/content/drive')"
      ]
    },
    {
      "cell_type": "code",
      "source": [
        "!rm -rf SortOutput\n",
        "!mkdir SortOutput\n",
        "!mkdir /content/SortOutput/dataset\n",
        "!mkdir /content/SortOutput/dataset/kds_dataset\n",
        "!mkdir /content/SortOutput/dataset/coco_classes\n",
        "!mkdir /content/SortOutput/dataset/configuration\n",
        "!cp '/content/drive/MyDrive/MTDI_TFM/Labeling.zip' '/content/SortOutput'\n",
        "!unzip '/content/SortOutput/Labeling.zip' -d '/content/SortOutput'\n",
        "!rm -rf /content/SortOutput/Labeling.zip /content/SortOutput/__MACOSX\n",
        "\n",
        "import os\n",
        "dirlist = os.listdir('/content/SortOutput/Labeling/true_dataset_nevera')\n",
        "dirlist.remove('.DS_Store')\n",
        "dirlist\n",
        "\n",
        "for dirname in dirlist:\n",
        "  %cp /content/SortOutput/Labeling/true_dataset_nevera/{dirname}/* /content/SortOutput/dataset/kds_dataset"
      ],
      "metadata": {
        "id": "8911xqhSseO-"
      },
      "execution_count": null,
      "outputs": []
    },
    {
      "cell_type": "code",
      "source": [
        "import glob\n",
        "with open(glob.glob('/content/SortOutput/Labeling/*.txt')[0]) as f:\n",
        "    classlist = f.read().splitlines()\n",
        "\n",
        "while '' in classlist:\n",
        "  classlist.remove('')\n",
        "  \n",
        "coco_classes = str(classlist)\n",
        "coco_classes = coco_classes.replace(\"[\", \"(\")\n",
        "coco_classes = coco_classes.replace(\"]\", \")\")\n",
        "coco_classes = 'COCO_CLASSES ='+coco_classes\n",
        "\n",
        "with open('/content/SortOutput/dataset/coco_classes/coco_classes.py', 'w') as f:\n",
        "    f.write(coco_classes)"
      ],
      "metadata": {
        "id": "7_550ZZ51hgf"
      },
      "execution_count": 117,
      "outputs": []
    },
    {
      "cell_type": "code",
      "source": [
        "!wget https://github.com/manvgom/Pickioset/blob/main/nano.py \n",
        "!mv /content/nano.py /content/SortOutput/dataset/configuration"
      ],
      "metadata": {
        "colab": {
          "base_uri": "https://localhost:8080/"
        },
        "id": "QejPO2qd5a-R",
        "outputId": "a80114bd-9664-48eb-9e27-2010135cd710"
      },
      "execution_count": 100,
      "outputs": [
        {
          "output_type": "stream",
          "name": "stdout",
          "text": [
            "--2022-07-08 18:34:27--  https://github.com/manvgom/Pickioset/blob/main/nano.py\n",
            "Resolving github.com (github.com)... 140.82.113.3\n",
            "Connecting to github.com (github.com)|140.82.113.3|:443... connected.\n",
            "HTTP request sent, awaiting response... 200 OK\n",
            "Length: unspecified [text/html]\n",
            "Saving to: ‘nano.py’\n",
            "\n",
            "nano.py                 [ <=>                ] 166.33K   939KB/s    in 0.2s    \n",
            "\n",
            "2022-07-08 18:34:28 (939 KB/s) - ‘nano.py’ saved [170325]\n",
            "\n"
          ]
        }
      ]
    },
    {
      "cell_type": "code",
      "source": [
        "classnumber = len(classlist)\n",
        "epochs = 15"
      ],
      "metadata": {
        "id": "s76P0hAoGAG7"
      },
      "execution_count": 122,
      "outputs": []
    },
    {
      "cell_type": "code",
      "source": [
        "term = 'epoch'\n",
        "t_loss=[]\n",
        "file = open('/content/SortOutput/dataset/configuration/nano.py')\n",
        "for line in file:\n",
        "    line.strip().split('/n')\n",
        "    if term in line:\n",
        "      t_loss.append(line)\n",
        "file.close()"
      ],
      "metadata": {
        "id": "rtExpQCEGpyd"
      },
      "execution_count": 129,
      "outputs": []
    },
    {
      "cell_type": "code",
      "source": [
        "t_loss"
      ],
      "metadata": {
        "colab": {
          "base_uri": "https://localhost:8080/"
        },
        "id": "Cao9gXV3JS9C",
        "outputId": "304b90a1-bec3-4e52-ca1a-239f79d14cb6"
      },
      "execution_count": 130,
      "outputs": [
        {
          "output_type": "execute_result",
          "data": {
            "text/plain": [
              "['          <td id=\"LC28\" class=\"blob-code blob-code-inner js-file-line\">        <span class=pl-s1>self</span>.<span class=pl-s1>max_epoch</span> <span class=pl-c1>=</span> <span class=pl-c1>30</span></td>\\n']"
            ]
          },
          "metadata": {},
          "execution_count": 130
        }
      ]
    }
  ]
}