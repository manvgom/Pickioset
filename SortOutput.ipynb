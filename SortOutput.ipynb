{
  "nbformat": 4,
  "nbformat_minor": 0,
  "metadata": {
    "colab": {
      "name": "SortOutput.ipynb",
      "provenance": [],
      "collapsed_sections": [],
      "authorship_tag": "ABX9TyMry8R9TmZz/wlCaiXTD8QY",
      "include_colab_link": true
    },
    "kernelspec": {
      "name": "python3",
      "display_name": "Python 3"
    },
    "language_info": {
      "name": "python"
    }
  },
  "cells": [
    {
      "cell_type": "markdown",
      "metadata": {
        "id": "view-in-github",
        "colab_type": "text"
      },
      "source": [
        "<a href=\"https://colab.research.google.com/github/manvgom/Pickioset/blob/main/SortOutput.ipynb\" target=\"_parent\"><img src=\"https://colab.research.google.com/assets/colab-badge.svg\" alt=\"Open In Colab\"/></a>"
      ]
    },
    {
      "cell_type": "code",
      "execution_count": 1,
      "metadata": {
        "colab": {
          "base_uri": "https://localhost:8080/"
        },
        "id": "NjFcq9brrhOp",
        "outputId": "eecb4510-cd1c-4c24-ce47-91a7caa95b58"
      },
      "outputs": [
        {
          "output_type": "stream",
          "name": "stdout",
          "text": [
            "Mounted at /content/drive\n"
          ]
        }
      ],
      "source": [
        "from google.colab import drive\n",
        "drive.mount('/content/drive')"
      ]
    },
    {
      "cell_type": "code",
      "source": [
        "!rm -rf SortOutput\n",
        "!mkdir SortOutput\n",
        "!mkdir /content/SortOutput/dataset\n",
        "!mkdir /content/SortOutput/dataset/kds_dataset\n",
        "!mkdir /content/SortOutput/dataset/coco_classes\n",
        "!mkdir /content/SortOutput/dataset/configuration\n",
        "!cp '/content/drive/MyDrive/MTDI_TFM/Labeling.zip' '/content/SortOutput'\n",
        "!unzip '/content/SortOutput/Labeling.zip' -d '/content/SortOutput'\n",
        "!rm -rf /content/SortOutput/Labeling.zip /content/SortOutput/__MACOSX\n",
        "\n",
        "import os\n",
        "dirlist = os.listdir('/content/SortOutput/Labeling/true_dataset_nevera')\n",
        "dirlist.remove('.DS_Store')\n",
        "dirlist\n",
        "\n",
        "for dirname in dirlist:\n",
        "  %cp /content/SortOutput/Labeling/true_dataset_nevera/{dirname}/* /content/SortOutput/dataset/kds_dataset"
      ],
      "metadata": {
        "id": "8911xqhSseO-"
      },
      "execution_count": null,
      "outputs": []
    },
    {
      "cell_type": "code",
      "source": [
        "import glob\n",
        "with open(glob.glob('/content/SortOutput/Labeling/*.txt')[0]) as f:\n",
        "    classlist = f.read().splitlines()\n",
        "\n",
        "coco_classes = str(classlist)\n",
        "coco_classes = coco_classes.replace(\"[\", \"(\")\n",
        "coco_classes = coco_classes.replace(\"]\", \")\")\n",
        "coco_classes = 'COCO_CLASSES ='+coco_classes\n",
        "\n",
        "with open('/content/SortOutput/dataset/coco_classes/coco_classes.py', 'w') as f:\n",
        "    f.write(coco_classes)"
      ],
      "metadata": {
        "id": "7_550ZZ51hgf"
      },
      "execution_count": 92,
      "outputs": []
    },
    {
      "cell_type": "code",
      "source": [
        ""
      ],
      "metadata": {
        "id": "QejPO2qd5a-R"
      },
      "execution_count": 86,
      "outputs": []
    },
    {
      "cell_type": "code",
      "source": [
        ""
      ],
      "metadata": {
        "id": "VPXWnxEF6B7h"
      },
      "execution_count": 90,
      "outputs": []
    }
  ]
}