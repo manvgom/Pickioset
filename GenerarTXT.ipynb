{
  "nbformat": 4,
  "nbformat_minor": 0,
  "metadata": {
    "colab": {
      "name": "GenerarTXT.ipynb",
      "provenance": [],
      "authorship_tag": "ABX9TyOGiojVpB4c9PrgAh62l7gJ",
      "include_colab_link": true
    },
    "kernelspec": {
      "name": "python3",
      "display_name": "Python 3"
    },
    "language_info": {
      "name": "python"
    }
  },
  "cells": [
    {
      "cell_type": "markdown",
      "metadata": {
        "id": "view-in-github",
        "colab_type": "text"
      },
      "source": [
        "<a href=\"https://colab.research.google.com/github/manvgom/Pickioset/blob/main/GenerarTXT.ipynb\" target=\"_parent\"><img src=\"https://colab.research.google.com/assets/colab-badge.svg\" alt=\"Open In Colab\"/></a>"
      ]
    },
    {
      "cell_type": "code",
      "execution_count": 18,
      "metadata": {
        "colab": {
          "base_uri": "https://localhost:8080/"
        },
        "id": "sCJx9s8EP-Gd",
        "outputId": "49ca621b-c85c-4e78-b458-8f68fadbcde0"
      },
      "outputs": [
        {
          "output_type": "stream",
          "name": "stdout",
          "text": [
            "Once deleted, variables cannot be recovered. Proceed (y/[n])? y\n",
            "Mounted at /content/drive\n"
          ]
        }
      ],
      "source": [
        "%reset \n",
        "from google.colab import drive\n",
        "drive.mount('/content/drive',force_remount=True)\n",
        "!mkdir -p dataset\n",
        "!unzip -qo drive/MyDrive/MTDI_TFM/PICKIOSET/openMMlab_small_ds.zip -d ./dataset/"
      ]
    },
    {
      "cell_type": "code",
      "source": [
        "import os\n",
        "import pandas as pd\n",
        "from sklearn.preprocessing import LabelEncoder , OneHotEncoder"
      ],
      "metadata": {
        "id": "WM83PynVRIrt"
      },
      "execution_count": 80,
      "outputs": []
    },
    {
      "cell_type": "code",
      "source": [
        "%cd /content/dataset/openMMlab_small_ds/test_set/test_set/\n",
        "ds_path = \"/content/dataset/openMMlab_small_ds/test_set/test_set/\"\n",
        "ds_class = os.listdir(ds_path)\n",
        "ds_class.remove(\".DS_Store\")\n",
        "print (ds_class)\n",
        "print(\"Types of classes labels found: \", len(ds_class))"
      ],
      "metadata": {
        "colab": {
          "base_uri": "https://localhost:8080/"
        },
        "id": "cZW99OJ1Q8zZ",
        "outputId": "d6cef50a-751f-4863-b976-29760ebf9d65"
      },
      "execution_count": 62,
      "outputs": [
        {
          "output_type": "stream",
          "name": "stdout",
          "text": [
            "/content/dataset/openMMlab_small_ds/test_set/test_set\n",
            "['gazpacho', 'hummus_pimiento', 'botella_agua', 'coca_cola', 'crema_calabaza', 'ensalada_cangrejo']\n",
            "Types of classes labels found:  6\n"
          ]
        }
      ]
    },
    {
      "cell_type": "code",
      "source": [
        "%ls\n",
        "os.listdir(ds_path)"
      ],
      "metadata": {
        "colab": {
          "base_uri": "https://localhost:8080/"
        },
        "id": "eMhmyugtY_3Y",
        "outputId": "888c827e-4b89-4567-b037-f63253a253c5"
      },
      "execution_count": 78,
      "outputs": [
        {
          "output_type": "stream",
          "name": "stdout",
          "text": [
            "\u001b[0m\u001b[01;34mbotella_agua\u001b[0m/  \u001b[01;34mcrema_calabaza\u001b[0m/     \u001b[01;34mgazpacho\u001b[0m/\n",
            "\u001b[01;34mcoca_cola\u001b[0m/     \u001b[01;34mensalada_cangrejo\u001b[0m/  \u001b[01;34mhummus_pimiento\u001b[0m/\n"
          ]
        },
        {
          "output_type": "execute_result",
          "data": {
            "text/plain": [
              "['gazpacho',\n",
              " 'hummus_pimiento',\n",
              " 'botella_agua',\n",
              " 'coca_cola',\n",
              " 'crema_calabaza',\n",
              " '.DS_Store',\n",
              " 'ensalada_cangrejo']"
            ]
          },
          "metadata": {},
          "execution_count": 78
        }
      ]
    },
    {
      "cell_type": "code",
      "source": [
        "class_labels = []\n",
        "for item in ds_class:\n",
        " all_classes = os.listdir(ds_path + item)\n",
        " for room in all_classes:\n",
        "  class_labels.append((item, str(ds_path + item) + '/' + room))\n",
        "df = pd.DataFrame(data=class_labels, columns=['Labels', 'image'])\n",
        "df"
      ],
      "metadata": {
        "id": "M2SHiXvcWixj"
      },
      "execution_count": null,
      "outputs": []
    },
    {
      "cell_type": "code",
      "source": [
        "y=df['Labels'].values\n",
        "print(list(dict.fromkeys(y)))\n",
        "y_labelencoder = LabelEncoder ()\n",
        "y = y_labelencoder.fit_transform (y)\n",
        "print (list(dict.fromkeys(y)))"
      ],
      "metadata": {
        "colab": {
          "base_uri": "https://localhost:8080/",
          "height": 130
        },
        "id": "Wr0KMKmGYZ1j",
        "outputId": "9d7397fd-5209-427a-ccfe-1950efa0e3a8"
      },
      "execution_count": 138,
      "outputs": [
        {
          "output_type": "error",
          "ename": "SyntaxError",
          "evalue": "ignored",
          "traceback": [
            "\u001b[0;36m  File \u001b[0;32m\"<ipython-input-138-71e0c86688c3>\"\u001b[0;36m, line \u001b[0;32m4\u001b[0m\n\u001b[0;31m    y_labelencoder = LabelEncoder ()\u001b[0m\n\u001b[0m                 ^\u001b[0m\n\u001b[0;31mSyntaxError\u001b[0m\u001b[0;31m:\u001b[0m invalid syntax\n"
          ]
        }
      ]
    },
    {
      "cell_type": "code",
      "source": [
        "clases"
      ],
      "metadata": {
        "colab": {
          "base_uri": "https://localhost:8080/"
        },
        "id": "5gpjsn1waYZ3",
        "outputId": "6cca2327-aed8-446f-e656-7bbcf8f6927d"
      },
      "execution_count": 130,
      "outputs": [
        {
          "output_type": "execute_result",
          "data": {
            "text/plain": [
              "[4,\n",
              " 'hummus_pimiento',\n",
              " 'botella_agua',\n",
              " 'coca_cola',\n",
              " 'crema_calabaza',\n",
              " 'ensalada_cangrejo']"
            ]
          },
          "metadata": {},
          "execution_count": 130
        }
      ]
    },
    {
      "cell_type": "code",
      "source": [
        "list(dict.fromkeys(clases))"
      ],
      "metadata": {
        "colab": {
          "base_uri": "https://localhost:8080/"
        },
        "id": "vhUFx3cec6L2",
        "outputId": "b526718b-eee7-4856-ccf0-5d3cd837a1a0"
      },
      "execution_count": 128,
      "outputs": [
        {
          "output_type": "execute_result",
          "data": {
            "text/plain": [
              "['gazpacho',\n",
              " 'hummus_pimiento',\n",
              " 'botella_agua',\n",
              " 'coca_cola',\n",
              " 'crema_calabaza',\n",
              " 'ensalada_cangrejo']"
            ]
          },
          "metadata": {},
          "execution_count": 128
        }
      ]
    },
    {
      "cell_type": "code",
      "source": [
        "for x in range(len(list(dict.fromkeys(clases)))):\n",
        "  print(x)\n",
        "  df=df.replace(to_replace=clases[x],value=clases_encoder[x])"
      ],
      "metadata": {
        "colab": {
          "base_uri": "https://localhost:8080/"
        },
        "id": "VU9bWj2QaT_O",
        "outputId": "84a8407f-eace-4569-bb98-c440a36bd6e5"
      },
      "execution_count": 114,
      "outputs": [
        {
          "output_type": "stream",
          "name": "stdout",
          "text": [
            "0\n",
            "1\n",
            "2\n",
            "3\n",
            "4\n",
            "5\n"
          ]
        }
      ]
    },
    {
      "cell_type": "code",
      "source": [
        "df"
      ],
      "metadata": {
        "colab": {
          "base_uri": "https://localhost:8080/",
          "height": 1000
        },
        "id": "GKwiKp1SbT4B",
        "outputId": "ed5b7f14-a5aa-4443-9e0f-49a21ec35a1e"
      },
      "execution_count": 115,
      "outputs": [
        {
          "output_type": "execute_result",
          "data": {
            "text/plain": [
              "               Labels                                              image\n",
              "0                   4  /content/dataset/openMMlab_small_ds/test_set/t...\n",
              "1                   4  /content/dataset/openMMlab_small_ds/test_set/t...\n",
              "2                   4  /content/dataset/openMMlab_small_ds/test_set/t...\n",
              "3                   4  /content/dataset/openMMlab_small_ds/test_set/t...\n",
              "4                   4  /content/dataset/openMMlab_small_ds/test_set/t...\n",
              "5                   4  /content/dataset/openMMlab_small_ds/test_set/t...\n",
              "6     hummus_pimiento  /content/dataset/openMMlab_small_ds/test_set/t...\n",
              "7     hummus_pimiento  /content/dataset/openMMlab_small_ds/test_set/t...\n",
              "8     hummus_pimiento  /content/dataset/openMMlab_small_ds/test_set/t...\n",
              "9     hummus_pimiento  /content/dataset/openMMlab_small_ds/test_set/t...\n",
              "10    hummus_pimiento  /content/dataset/openMMlab_small_ds/test_set/t...\n",
              "11    hummus_pimiento  /content/dataset/openMMlab_small_ds/test_set/t...\n",
              "12       botella_agua  /content/dataset/openMMlab_small_ds/test_set/t...\n",
              "13       botella_agua  /content/dataset/openMMlab_small_ds/test_set/t...\n",
              "14       botella_agua  /content/dataset/openMMlab_small_ds/test_set/t...\n",
              "15       botella_agua  /content/dataset/openMMlab_small_ds/test_set/t...\n",
              "16       botella_agua  /content/dataset/openMMlab_small_ds/test_set/t...\n",
              "17       botella_agua  /content/dataset/openMMlab_small_ds/test_set/t...\n",
              "18          coca_cola  /content/dataset/openMMlab_small_ds/test_set/t...\n",
              "19          coca_cola  /content/dataset/openMMlab_small_ds/test_set/t...\n",
              "20          coca_cola  /content/dataset/openMMlab_small_ds/test_set/t...\n",
              "21          coca_cola  /content/dataset/openMMlab_small_ds/test_set/t...\n",
              "22          coca_cola  /content/dataset/openMMlab_small_ds/test_set/t...\n",
              "23          coca_cola  /content/dataset/openMMlab_small_ds/test_set/t...\n",
              "24     crema_calabaza  /content/dataset/openMMlab_small_ds/test_set/t...\n",
              "25     crema_calabaza  /content/dataset/openMMlab_small_ds/test_set/t...\n",
              "26     crema_calabaza  /content/dataset/openMMlab_small_ds/test_set/t...\n",
              "27     crema_calabaza  /content/dataset/openMMlab_small_ds/test_set/t...\n",
              "28     crema_calabaza  /content/dataset/openMMlab_small_ds/test_set/t...\n",
              "29     crema_calabaza  /content/dataset/openMMlab_small_ds/test_set/t...\n",
              "30  ensalada_cangrejo  /content/dataset/openMMlab_small_ds/test_set/t...\n",
              "31  ensalada_cangrejo  /content/dataset/openMMlab_small_ds/test_set/t...\n",
              "32  ensalada_cangrejo  /content/dataset/openMMlab_small_ds/test_set/t...\n",
              "33  ensalada_cangrejo  /content/dataset/openMMlab_small_ds/test_set/t...\n",
              "34  ensalada_cangrejo  /content/dataset/openMMlab_small_ds/test_set/t...\n",
              "35  ensalada_cangrejo  /content/dataset/openMMlab_small_ds/test_set/t..."
            ],
            "text/html": [
              "\n",
              "  <div id=\"df-fd003077-13ad-4f8d-83a7-1d7b039a6077\">\n",
              "    <div class=\"colab-df-container\">\n",
              "      <div>\n",
              "<style scoped>\n",
              "    .dataframe tbody tr th:only-of-type {\n",
              "        vertical-align: middle;\n",
              "    }\n",
              "\n",
              "    .dataframe tbody tr th {\n",
              "        vertical-align: top;\n",
              "    }\n",
              "\n",
              "    .dataframe thead th {\n",
              "        text-align: right;\n",
              "    }\n",
              "</style>\n",
              "<table border=\"1\" class=\"dataframe\">\n",
              "  <thead>\n",
              "    <tr style=\"text-align: right;\">\n",
              "      <th></th>\n",
              "      <th>Labels</th>\n",
              "      <th>image</th>\n",
              "    </tr>\n",
              "  </thead>\n",
              "  <tbody>\n",
              "    <tr>\n",
              "      <th>0</th>\n",
              "      <td>4</td>\n",
              "      <td>/content/dataset/openMMlab_small_ds/test_set/t...</td>\n",
              "    </tr>\n",
              "    <tr>\n",
              "      <th>1</th>\n",
              "      <td>4</td>\n",
              "      <td>/content/dataset/openMMlab_small_ds/test_set/t...</td>\n",
              "    </tr>\n",
              "    <tr>\n",
              "      <th>2</th>\n",
              "      <td>4</td>\n",
              "      <td>/content/dataset/openMMlab_small_ds/test_set/t...</td>\n",
              "    </tr>\n",
              "    <tr>\n",
              "      <th>3</th>\n",
              "      <td>4</td>\n",
              "      <td>/content/dataset/openMMlab_small_ds/test_set/t...</td>\n",
              "    </tr>\n",
              "    <tr>\n",
              "      <th>4</th>\n",
              "      <td>4</td>\n",
              "      <td>/content/dataset/openMMlab_small_ds/test_set/t...</td>\n",
              "    </tr>\n",
              "    <tr>\n",
              "      <th>5</th>\n",
              "      <td>4</td>\n",
              "      <td>/content/dataset/openMMlab_small_ds/test_set/t...</td>\n",
              "    </tr>\n",
              "    <tr>\n",
              "      <th>6</th>\n",
              "      <td>hummus_pimiento</td>\n",
              "      <td>/content/dataset/openMMlab_small_ds/test_set/t...</td>\n",
              "    </tr>\n",
              "    <tr>\n",
              "      <th>7</th>\n",
              "      <td>hummus_pimiento</td>\n",
              "      <td>/content/dataset/openMMlab_small_ds/test_set/t...</td>\n",
              "    </tr>\n",
              "    <tr>\n",
              "      <th>8</th>\n",
              "      <td>hummus_pimiento</td>\n",
              "      <td>/content/dataset/openMMlab_small_ds/test_set/t...</td>\n",
              "    </tr>\n",
              "    <tr>\n",
              "      <th>9</th>\n",
              "      <td>hummus_pimiento</td>\n",
              "      <td>/content/dataset/openMMlab_small_ds/test_set/t...</td>\n",
              "    </tr>\n",
              "    <tr>\n",
              "      <th>10</th>\n",
              "      <td>hummus_pimiento</td>\n",
              "      <td>/content/dataset/openMMlab_small_ds/test_set/t...</td>\n",
              "    </tr>\n",
              "    <tr>\n",
              "      <th>11</th>\n",
              "      <td>hummus_pimiento</td>\n",
              "      <td>/content/dataset/openMMlab_small_ds/test_set/t...</td>\n",
              "    </tr>\n",
              "    <tr>\n",
              "      <th>12</th>\n",
              "      <td>botella_agua</td>\n",
              "      <td>/content/dataset/openMMlab_small_ds/test_set/t...</td>\n",
              "    </tr>\n",
              "    <tr>\n",
              "      <th>13</th>\n",
              "      <td>botella_agua</td>\n",
              "      <td>/content/dataset/openMMlab_small_ds/test_set/t...</td>\n",
              "    </tr>\n",
              "    <tr>\n",
              "      <th>14</th>\n",
              "      <td>botella_agua</td>\n",
              "      <td>/content/dataset/openMMlab_small_ds/test_set/t...</td>\n",
              "    </tr>\n",
              "    <tr>\n",
              "      <th>15</th>\n",
              "      <td>botella_agua</td>\n",
              "      <td>/content/dataset/openMMlab_small_ds/test_set/t...</td>\n",
              "    </tr>\n",
              "    <tr>\n",
              "      <th>16</th>\n",
              "      <td>botella_agua</td>\n",
              "      <td>/content/dataset/openMMlab_small_ds/test_set/t...</td>\n",
              "    </tr>\n",
              "    <tr>\n",
              "      <th>17</th>\n",
              "      <td>botella_agua</td>\n",
              "      <td>/content/dataset/openMMlab_small_ds/test_set/t...</td>\n",
              "    </tr>\n",
              "    <tr>\n",
              "      <th>18</th>\n",
              "      <td>coca_cola</td>\n",
              "      <td>/content/dataset/openMMlab_small_ds/test_set/t...</td>\n",
              "    </tr>\n",
              "    <tr>\n",
              "      <th>19</th>\n",
              "      <td>coca_cola</td>\n",
              "      <td>/content/dataset/openMMlab_small_ds/test_set/t...</td>\n",
              "    </tr>\n",
              "    <tr>\n",
              "      <th>20</th>\n",
              "      <td>coca_cola</td>\n",
              "      <td>/content/dataset/openMMlab_small_ds/test_set/t...</td>\n",
              "    </tr>\n",
              "    <tr>\n",
              "      <th>21</th>\n",
              "      <td>coca_cola</td>\n",
              "      <td>/content/dataset/openMMlab_small_ds/test_set/t...</td>\n",
              "    </tr>\n",
              "    <tr>\n",
              "      <th>22</th>\n",
              "      <td>coca_cola</td>\n",
              "      <td>/content/dataset/openMMlab_small_ds/test_set/t...</td>\n",
              "    </tr>\n",
              "    <tr>\n",
              "      <th>23</th>\n",
              "      <td>coca_cola</td>\n",
              "      <td>/content/dataset/openMMlab_small_ds/test_set/t...</td>\n",
              "    </tr>\n",
              "    <tr>\n",
              "      <th>24</th>\n",
              "      <td>crema_calabaza</td>\n",
              "      <td>/content/dataset/openMMlab_small_ds/test_set/t...</td>\n",
              "    </tr>\n",
              "    <tr>\n",
              "      <th>25</th>\n",
              "      <td>crema_calabaza</td>\n",
              "      <td>/content/dataset/openMMlab_small_ds/test_set/t...</td>\n",
              "    </tr>\n",
              "    <tr>\n",
              "      <th>26</th>\n",
              "      <td>crema_calabaza</td>\n",
              "      <td>/content/dataset/openMMlab_small_ds/test_set/t...</td>\n",
              "    </tr>\n",
              "    <tr>\n",
              "      <th>27</th>\n",
              "      <td>crema_calabaza</td>\n",
              "      <td>/content/dataset/openMMlab_small_ds/test_set/t...</td>\n",
              "    </tr>\n",
              "    <tr>\n",
              "      <th>28</th>\n",
              "      <td>crema_calabaza</td>\n",
              "      <td>/content/dataset/openMMlab_small_ds/test_set/t...</td>\n",
              "    </tr>\n",
              "    <tr>\n",
              "      <th>29</th>\n",
              "      <td>crema_calabaza</td>\n",
              "      <td>/content/dataset/openMMlab_small_ds/test_set/t...</td>\n",
              "    </tr>\n",
              "    <tr>\n",
              "      <th>30</th>\n",
              "      <td>ensalada_cangrejo</td>\n",
              "      <td>/content/dataset/openMMlab_small_ds/test_set/t...</td>\n",
              "    </tr>\n",
              "    <tr>\n",
              "      <th>31</th>\n",
              "      <td>ensalada_cangrejo</td>\n",
              "      <td>/content/dataset/openMMlab_small_ds/test_set/t...</td>\n",
              "    </tr>\n",
              "    <tr>\n",
              "      <th>32</th>\n",
              "      <td>ensalada_cangrejo</td>\n",
              "      <td>/content/dataset/openMMlab_small_ds/test_set/t...</td>\n",
              "    </tr>\n",
              "    <tr>\n",
              "      <th>33</th>\n",
              "      <td>ensalada_cangrejo</td>\n",
              "      <td>/content/dataset/openMMlab_small_ds/test_set/t...</td>\n",
              "    </tr>\n",
              "    <tr>\n",
              "      <th>34</th>\n",
              "      <td>ensalada_cangrejo</td>\n",
              "      <td>/content/dataset/openMMlab_small_ds/test_set/t...</td>\n",
              "    </tr>\n",
              "    <tr>\n",
              "      <th>35</th>\n",
              "      <td>ensalada_cangrejo</td>\n",
              "      <td>/content/dataset/openMMlab_small_ds/test_set/t...</td>\n",
              "    </tr>\n",
              "  </tbody>\n",
              "</table>\n",
              "</div>\n",
              "      <button class=\"colab-df-convert\" onclick=\"convertToInteractive('df-fd003077-13ad-4f8d-83a7-1d7b039a6077')\"\n",
              "              title=\"Convert this dataframe to an interactive table.\"\n",
              "              style=\"display:none;\">\n",
              "        \n",
              "  <svg xmlns=\"http://www.w3.org/2000/svg\" height=\"24px\"viewBox=\"0 0 24 24\"\n",
              "       width=\"24px\">\n",
              "    <path d=\"M0 0h24v24H0V0z\" fill=\"none\"/>\n",
              "    <path d=\"M18.56 5.44l.94 2.06.94-2.06 2.06-.94-2.06-.94-.94-2.06-.94 2.06-2.06.94zm-11 1L8.5 8.5l.94-2.06 2.06-.94-2.06-.94L8.5 2.5l-.94 2.06-2.06.94zm10 10l.94 2.06.94-2.06 2.06-.94-2.06-.94-.94-2.06-.94 2.06-2.06.94z\"/><path d=\"M17.41 7.96l-1.37-1.37c-.4-.4-.92-.59-1.43-.59-.52 0-1.04.2-1.43.59L10.3 9.45l-7.72 7.72c-.78.78-.78 2.05 0 2.83L4 21.41c.39.39.9.59 1.41.59.51 0 1.02-.2 1.41-.59l7.78-7.78 2.81-2.81c.8-.78.8-2.07 0-2.86zM5.41 20L4 18.59l7.72-7.72 1.47 1.35L5.41 20z\"/>\n",
              "  </svg>\n",
              "      </button>\n",
              "      \n",
              "  <style>\n",
              "    .colab-df-container {\n",
              "      display:flex;\n",
              "      flex-wrap:wrap;\n",
              "      gap: 12px;\n",
              "    }\n",
              "\n",
              "    .colab-df-convert {\n",
              "      background-color: #E8F0FE;\n",
              "      border: none;\n",
              "      border-radius: 50%;\n",
              "      cursor: pointer;\n",
              "      display: none;\n",
              "      fill: #1967D2;\n",
              "      height: 32px;\n",
              "      padding: 0 0 0 0;\n",
              "      width: 32px;\n",
              "    }\n",
              "\n",
              "    .colab-df-convert:hover {\n",
              "      background-color: #E2EBFA;\n",
              "      box-shadow: 0px 1px 2px rgba(60, 64, 67, 0.3), 0px 1px 3px 1px rgba(60, 64, 67, 0.15);\n",
              "      fill: #174EA6;\n",
              "    }\n",
              "\n",
              "    [theme=dark] .colab-df-convert {\n",
              "      background-color: #3B4455;\n",
              "      fill: #D2E3FC;\n",
              "    }\n",
              "\n",
              "    [theme=dark] .colab-df-convert:hover {\n",
              "      background-color: #434B5C;\n",
              "      box-shadow: 0px 1px 3px 1px rgba(0, 0, 0, 0.15);\n",
              "      filter: drop-shadow(0px 1px 2px rgba(0, 0, 0, 0.3));\n",
              "      fill: #FFFFFF;\n",
              "    }\n",
              "  </style>\n",
              "\n",
              "      <script>\n",
              "        const buttonEl =\n",
              "          document.querySelector('#df-fd003077-13ad-4f8d-83a7-1d7b039a6077 button.colab-df-convert');\n",
              "        buttonEl.style.display =\n",
              "          google.colab.kernel.accessAllowed ? 'block' : 'none';\n",
              "\n",
              "        async function convertToInteractive(key) {\n",
              "          const element = document.querySelector('#df-fd003077-13ad-4f8d-83a7-1d7b039a6077');\n",
              "          const dataTable =\n",
              "            await google.colab.kernel.invokeFunction('convertToInteractive',\n",
              "                                                     [key], {});\n",
              "          if (!dataTable) return;\n",
              "\n",
              "          const docLinkHtml = 'Like what you see? Visit the ' +\n",
              "            '<a target=\"_blank\" href=https://colab.research.google.com/notebooks/data_table.ipynb>data table notebook</a>'\n",
              "            + ' to learn more about interactive tables.';\n",
              "          element.innerHTML = '';\n",
              "          dataTable['output_type'] = 'display_data';\n",
              "          await google.colab.output.renderOutput(dataTable, element);\n",
              "          const docLink = document.createElement('div');\n",
              "          docLink.innerHTML = docLinkHtml;\n",
              "          element.appendChild(docLink);\n",
              "        }\n",
              "      </script>\n",
              "    </div>\n",
              "  </div>\n",
              "  "
            ]
          },
          "metadata": {},
          "execution_count": 115
        }
      ]
    },
    {
      "cell_type": "code",
      "source": [
        "%cd /content/dataset/openMMlab_small_ds/val_set/val_set/\n",
        "ds_path = \"/content/dataset/openMMlab_small_ds/val_set/val_set/\"\n",
        "ds_class = os.listdir(ds_path)\n",
        "ds_class.remove(\".DS_Store\")\n",
        "print (ds_class)\n",
        "print(\"Types of classes labels found: \", len(ds_class))"
      ],
      "metadata": {
        "colab": {
          "base_uri": "https://localhost:8080/"
        },
        "id": "PN9ZO3IgUOFJ",
        "outputId": "a4dfc08f-4543-4ddb-be17-43d3771f5b15"
      },
      "execution_count": 61,
      "outputs": [
        {
          "output_type": "stream",
          "name": "stdout",
          "text": [
            "/content/dataset/openMMlab_small_ds/val_set/val_set\n",
            "['gazpacho', 'hummus_pimiento', 'botella_agua', 'coca_cola', 'crema_calabaza', 'ensalada_cangrejo']\n",
            "Types of classes labels found:  6\n"
          ]
        }
      ]
    }
  ]
}