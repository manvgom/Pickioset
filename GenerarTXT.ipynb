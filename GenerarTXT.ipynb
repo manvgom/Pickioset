{
  "nbformat": 4,
  "nbformat_minor": 0,
  "metadata": {
    "colab": {
      "name": "GenerarTXT.ipynb",
      "provenance": [],
      "authorship_tag": "ABX9TyNqJWnanitx8ttyMbyzShkP",
      "include_colab_link": true
    },
    "kernelspec": {
      "name": "python3",
      "display_name": "Python 3"
    },
    "language_info": {
      "name": "python"
    }
  },
  "cells": [
    {
      "cell_type": "markdown",
      "metadata": {
        "id": "view-in-github",
        "colab_type": "text"
      },
      "source": [
        "<a href=\"https://colab.research.google.com/github/manvgom/Pickioset/blob/main/GenerarTXT.ipynb\" target=\"_parent\"><img src=\"https://colab.research.google.com/assets/colab-badge.svg\" alt=\"Open In Colab\"/></a>"
      ]
    },
    {
      "cell_type": "code",
      "execution_count": 1,
      "metadata": {
        "colab": {
          "base_uri": "https://localhost:8080/"
        },
        "id": "sCJx9s8EP-Gd",
        "outputId": "823a687e-11a3-4a0e-d436-6ac87f3881ff"
      },
      "outputs": [
        {
          "output_type": "stream",
          "name": "stdout",
          "text": [
            "Once deleted, variables cannot be recovered. Proceed (y/[n])? y\n",
            "Mounted at /content/drive\n"
          ]
        }
      ],
      "source": [
        "%reset \n",
        "from google.colab import drive\n",
        "drive.mount('/content/drive',force_remount=True)\n",
        "!mkdir -p dataset\n",
        "!unzip -qo drive/MyDrive/MTDI_TFM/PICKIOSET/openMMlab_small_ds.zip -d ./dataset/"
      ]
    },
    {
      "cell_type": "code",
      "source": [
        "import os\n",
        "import pandas as pd\n",
        "from sklearn.preprocessing import LabelEncoder , OneHotEncoder"
      ],
      "metadata": {
        "id": "WM83PynVRIrt"
      },
      "execution_count": 2,
      "outputs": []
    },
    {
      "cell_type": "code",
      "source": [
        "%cd /content/dataset/openMMlab_small_ds/test_set/test_set/\n",
        "ds_path = \"/content/dataset/openMMlab_small_ds/test_set/test_set/\"\n",
        "ds_class = os.listdir(ds_path)\n",
        "ds_class.remove(\".DS_Store\")\n",
        "print (ds_class)\n",
        "print(\"Types of classes labels found: \", len(ds_class))"
      ],
      "metadata": {
        "colab": {
          "base_uri": "https://localhost:8080/"
        },
        "id": "cZW99OJ1Q8zZ",
        "outputId": "8b95b386-175e-455b-c5c3-fc7ef88b54c5"
      },
      "execution_count": 97,
      "outputs": [
        {
          "output_type": "stream",
          "name": "stdout",
          "text": [
            "/content/dataset/openMMlab_small_ds/test_set/test_set\n",
            "['ensalada_cangrejo', 'coca_cola', 'botella_agua', 'hummus_pimiento', 'crema_calabaza', 'gazpacho']\n",
            "Types of classes labels found:  6\n"
          ]
        }
      ]
    },
    {
      "cell_type": "code",
      "source": [
        "class_labels = []\n",
        "for x in ds_class:\n",
        " all_classes = os.listdir(ds_path + x)\n",
        " for y in all_classes:\n",
        "  class_labels.append((x,str(x) + '/' + y))\n",
        "df = pd.DataFrame(data=class_labels, columns = ['Label','Path'])\n",
        "df.head()"
      ],
      "metadata": {
        "id": "ix-x4RLDFT_G",
        "outputId": "6bddf273-8df6-4216-9b95-591ceb4f1faa",
        "colab": {
          "base_uri": "https://localhost:8080/",
          "height": 206
        }
      },
      "execution_count": 98,
      "outputs": [
        {
          "output_type": "execute_result",
          "data": {
            "text/plain": [
              "               Label                      Path\n",
              "0  ensalada_cangrejo  ensalada_cangrejo/18.jpg\n",
              "1  ensalada_cangrejo  ensalada_cangrejo/21.jpg\n",
              "2  ensalada_cangrejo   ensalada_cangrejo/1.jpg\n",
              "3  ensalada_cangrejo  ensalada_cangrejo/11.jpg\n",
              "4  ensalada_cangrejo  ensalada_cangrejo/28.jpg"
            ],
            "text/html": [
              "\n",
              "  <div id=\"df-a1495a7b-6b12-43cb-91d5-8718f8b84a27\">\n",
              "    <div class=\"colab-df-container\">\n",
              "      <div>\n",
              "<style scoped>\n",
              "    .dataframe tbody tr th:only-of-type {\n",
              "        vertical-align: middle;\n",
              "    }\n",
              "\n",
              "    .dataframe tbody tr th {\n",
              "        vertical-align: top;\n",
              "    }\n",
              "\n",
              "    .dataframe thead th {\n",
              "        text-align: right;\n",
              "    }\n",
              "</style>\n",
              "<table border=\"1\" class=\"dataframe\">\n",
              "  <thead>\n",
              "    <tr style=\"text-align: right;\">\n",
              "      <th></th>\n",
              "      <th>Label</th>\n",
              "      <th>Path</th>\n",
              "    </tr>\n",
              "  </thead>\n",
              "  <tbody>\n",
              "    <tr>\n",
              "      <th>0</th>\n",
              "      <td>ensalada_cangrejo</td>\n",
              "      <td>ensalada_cangrejo/18.jpg</td>\n",
              "    </tr>\n",
              "    <tr>\n",
              "      <th>1</th>\n",
              "      <td>ensalada_cangrejo</td>\n",
              "      <td>ensalada_cangrejo/21.jpg</td>\n",
              "    </tr>\n",
              "    <tr>\n",
              "      <th>2</th>\n",
              "      <td>ensalada_cangrejo</td>\n",
              "      <td>ensalada_cangrejo/1.jpg</td>\n",
              "    </tr>\n",
              "    <tr>\n",
              "      <th>3</th>\n",
              "      <td>ensalada_cangrejo</td>\n",
              "      <td>ensalada_cangrejo/11.jpg</td>\n",
              "    </tr>\n",
              "    <tr>\n",
              "      <th>4</th>\n",
              "      <td>ensalada_cangrejo</td>\n",
              "      <td>ensalada_cangrejo/28.jpg</td>\n",
              "    </tr>\n",
              "  </tbody>\n",
              "</table>\n",
              "</div>\n",
              "      <button class=\"colab-df-convert\" onclick=\"convertToInteractive('df-a1495a7b-6b12-43cb-91d5-8718f8b84a27')\"\n",
              "              title=\"Convert this dataframe to an interactive table.\"\n",
              "              style=\"display:none;\">\n",
              "        \n",
              "  <svg xmlns=\"http://www.w3.org/2000/svg\" height=\"24px\"viewBox=\"0 0 24 24\"\n",
              "       width=\"24px\">\n",
              "    <path d=\"M0 0h24v24H0V0z\" fill=\"none\"/>\n",
              "    <path d=\"M18.56 5.44l.94 2.06.94-2.06 2.06-.94-2.06-.94-.94-2.06-.94 2.06-2.06.94zm-11 1L8.5 8.5l.94-2.06 2.06-.94-2.06-.94L8.5 2.5l-.94 2.06-2.06.94zm10 10l.94 2.06.94-2.06 2.06-.94-2.06-.94-.94-2.06-.94 2.06-2.06.94z\"/><path d=\"M17.41 7.96l-1.37-1.37c-.4-.4-.92-.59-1.43-.59-.52 0-1.04.2-1.43.59L10.3 9.45l-7.72 7.72c-.78.78-.78 2.05 0 2.83L4 21.41c.39.39.9.59 1.41.59.51 0 1.02-.2 1.41-.59l7.78-7.78 2.81-2.81c.8-.78.8-2.07 0-2.86zM5.41 20L4 18.59l7.72-7.72 1.47 1.35L5.41 20z\"/>\n",
              "  </svg>\n",
              "      </button>\n",
              "      \n",
              "  <style>\n",
              "    .colab-df-container {\n",
              "      display:flex;\n",
              "      flex-wrap:wrap;\n",
              "      gap: 12px;\n",
              "    }\n",
              "\n",
              "    .colab-df-convert {\n",
              "      background-color: #E8F0FE;\n",
              "      border: none;\n",
              "      border-radius: 50%;\n",
              "      cursor: pointer;\n",
              "      display: none;\n",
              "      fill: #1967D2;\n",
              "      height: 32px;\n",
              "      padding: 0 0 0 0;\n",
              "      width: 32px;\n",
              "    }\n",
              "\n",
              "    .colab-df-convert:hover {\n",
              "      background-color: #E2EBFA;\n",
              "      box-shadow: 0px 1px 2px rgba(60, 64, 67, 0.3), 0px 1px 3px 1px rgba(60, 64, 67, 0.15);\n",
              "      fill: #174EA6;\n",
              "    }\n",
              "\n",
              "    [theme=dark] .colab-df-convert {\n",
              "      background-color: #3B4455;\n",
              "      fill: #D2E3FC;\n",
              "    }\n",
              "\n",
              "    [theme=dark] .colab-df-convert:hover {\n",
              "      background-color: #434B5C;\n",
              "      box-shadow: 0px 1px 3px 1px rgba(0, 0, 0, 0.15);\n",
              "      filter: drop-shadow(0px 1px 2px rgba(0, 0, 0, 0.3));\n",
              "      fill: #FFFFFF;\n",
              "    }\n",
              "  </style>\n",
              "\n",
              "      <script>\n",
              "        const buttonEl =\n",
              "          document.querySelector('#df-a1495a7b-6b12-43cb-91d5-8718f8b84a27 button.colab-df-convert');\n",
              "        buttonEl.style.display =\n",
              "          google.colab.kernel.accessAllowed ? 'block' : 'none';\n",
              "\n",
              "        async function convertToInteractive(key) {\n",
              "          const element = document.querySelector('#df-a1495a7b-6b12-43cb-91d5-8718f8b84a27');\n",
              "          const dataTable =\n",
              "            await google.colab.kernel.invokeFunction('convertToInteractive',\n",
              "                                                     [key], {});\n",
              "          if (!dataTable) return;\n",
              "\n",
              "          const docLinkHtml = 'Like what you see? Visit the ' +\n",
              "            '<a target=\"_blank\" href=https://colab.research.google.com/notebooks/data_table.ipynb>data table notebook</a>'\n",
              "            + ' to learn more about interactive tables.';\n",
              "          element.innerHTML = '';\n",
              "          dataTable['output_type'] = 'display_data';\n",
              "          await google.colab.output.renderOutput(dataTable, element);\n",
              "          const docLink = document.createElement('div');\n",
              "          docLink.innerHTML = docLinkHtml;\n",
              "          element.appendChild(docLink);\n",
              "        }\n",
              "      </script>\n",
              "    </div>\n",
              "  </div>\n",
              "  "
            ]
          },
          "metadata": {},
          "execution_count": 98
        }
      ]
    },
    {
      "cell_type": "code",
      "source": [
        "label=list(dict.fromkeys(df['Label'].values))\n",
        "print(label)\n",
        "labelencoder = LabelEncoder ()\n",
        "labelencoder = labelencoder.fit_transform (label)\n",
        "print (list(dict.fromkeys(labelencoder)))"
      ],
      "metadata": {
        "colab": {
          "base_uri": "https://localhost:8080/"
        },
        "id": "Wr0KMKmGYZ1j",
        "outputId": "380737ca-3de7-498d-822e-bac53c436cc7"
      },
      "execution_count": 99,
      "outputs": [
        {
          "output_type": "stream",
          "name": "stdout",
          "text": [
            "['ensalada_cangrejo', 'coca_cola', 'botella_agua', 'hummus_pimiento', 'crema_calabaza', 'gazpacho']\n",
            "[3, 1, 0, 5, 2, 4]\n"
          ]
        }
      ]
    },
    {
      "cell_type": "code",
      "source": [
        "test_doc = []\n",
        "for x in range(len(df)):\n",
        "  for y in range(len(label)):\n",
        "    if df.iloc[x,0] == label[y]:\n",
        "      test_doc.append(str(df.iloc[x,1]) + \" \" + str(labelencoder[y]))"
      ],
      "metadata": {
        "id": "0n-1yXxtIAHT"
      },
      "execution_count": 100,
      "outputs": []
    },
    {
      "cell_type": "code",
      "source": [
        "with open('/content/drive/MyDrive/MTDI_TFM/test.txt', 'w') as f:\n",
        "    for line in test_doc:\n",
        "        f.write(line)\n",
        "        f.write('\\n')"
      ],
      "metadata": {
        "id": "vWf3aMXBM6R3"
      },
      "execution_count": 101,
      "outputs": []
    },
    {
      "cell_type": "code",
      "source": [
        "%cd /content/dataset/openMMlab_small_ds/val_set/val_set/\n",
        "ds_path = \"/content/dataset/openMMlab_small_ds/val_set/val_set/\"\n",
        "ds_class = os.listdir(ds_path)\n",
        "ds_class.remove(\".DS_Store\")\n",
        "print (ds_class)\n",
        "print(\"Types of classes labels found: \", len(ds_class))"
      ],
      "metadata": {
        "colab": {
          "base_uri": "https://localhost:8080/"
        },
        "id": "PN9ZO3IgUOFJ",
        "outputId": "360b5b74-56da-4a85-ffb1-f1374c198bea"
      },
      "execution_count": 102,
      "outputs": [
        {
          "output_type": "stream",
          "name": "stdout",
          "text": [
            "/content/dataset/openMMlab_small_ds/val_set/val_set\n",
            "['ensalada_cangrejo', 'coca_cola', 'botella_agua', 'hummus_pimiento', 'crema_calabaza', 'gazpacho']\n",
            "Types of classes labels found:  6\n"
          ]
        }
      ]
    },
    {
      "cell_type": "code",
      "source": [
        "class_labels = []\n",
        "for x in ds_class:\n",
        " all_classes = os.listdir(ds_path + x)\n",
        " for y in all_classes:\n",
        "  class_labels.append((x,str(x) + '/' + y))\n",
        "df = pd.DataFrame(data=class_labels, columns = ['Label','Path'])\n",
        "df.head()"
      ],
      "metadata": {
        "id": "4GODs2bvKnbu",
        "outputId": "c450c4ce-906f-4464-e3e1-0093ac862b04",
        "colab": {
          "base_uri": "https://localhost:8080/",
          "height": 206
        }
      },
      "execution_count": 103,
      "outputs": [
        {
          "output_type": "execute_result",
          "data": {
            "text/plain": [
              "               Label                      Path\n",
              "0  ensalada_cangrejo   ensalada_cangrejo/2.jpg\n",
              "1  ensalada_cangrejo   ensalada_cangrejo/9.jpg\n",
              "2  ensalada_cangrejo  ensalada_cangrejo/15.jpg\n",
              "3  ensalada_cangrejo  ensalada_cangrejo/29.jpg\n",
              "4  ensalada_cangrejo  ensalada_cangrejo/19.jpg"
            ],
            "text/html": [
              "\n",
              "  <div id=\"df-40328c7a-3f20-4e32-bc0d-2ebdd9eb21c2\">\n",
              "    <div class=\"colab-df-container\">\n",
              "      <div>\n",
              "<style scoped>\n",
              "    .dataframe tbody tr th:only-of-type {\n",
              "        vertical-align: middle;\n",
              "    }\n",
              "\n",
              "    .dataframe tbody tr th {\n",
              "        vertical-align: top;\n",
              "    }\n",
              "\n",
              "    .dataframe thead th {\n",
              "        text-align: right;\n",
              "    }\n",
              "</style>\n",
              "<table border=\"1\" class=\"dataframe\">\n",
              "  <thead>\n",
              "    <tr style=\"text-align: right;\">\n",
              "      <th></th>\n",
              "      <th>Label</th>\n",
              "      <th>Path</th>\n",
              "    </tr>\n",
              "  </thead>\n",
              "  <tbody>\n",
              "    <tr>\n",
              "      <th>0</th>\n",
              "      <td>ensalada_cangrejo</td>\n",
              "      <td>ensalada_cangrejo/2.jpg</td>\n",
              "    </tr>\n",
              "    <tr>\n",
              "      <th>1</th>\n",
              "      <td>ensalada_cangrejo</td>\n",
              "      <td>ensalada_cangrejo/9.jpg</td>\n",
              "    </tr>\n",
              "    <tr>\n",
              "      <th>2</th>\n",
              "      <td>ensalada_cangrejo</td>\n",
              "      <td>ensalada_cangrejo/15.jpg</td>\n",
              "    </tr>\n",
              "    <tr>\n",
              "      <th>3</th>\n",
              "      <td>ensalada_cangrejo</td>\n",
              "      <td>ensalada_cangrejo/29.jpg</td>\n",
              "    </tr>\n",
              "    <tr>\n",
              "      <th>4</th>\n",
              "      <td>ensalada_cangrejo</td>\n",
              "      <td>ensalada_cangrejo/19.jpg</td>\n",
              "    </tr>\n",
              "  </tbody>\n",
              "</table>\n",
              "</div>\n",
              "      <button class=\"colab-df-convert\" onclick=\"convertToInteractive('df-40328c7a-3f20-4e32-bc0d-2ebdd9eb21c2')\"\n",
              "              title=\"Convert this dataframe to an interactive table.\"\n",
              "              style=\"display:none;\">\n",
              "        \n",
              "  <svg xmlns=\"http://www.w3.org/2000/svg\" height=\"24px\"viewBox=\"0 0 24 24\"\n",
              "       width=\"24px\">\n",
              "    <path d=\"M0 0h24v24H0V0z\" fill=\"none\"/>\n",
              "    <path d=\"M18.56 5.44l.94 2.06.94-2.06 2.06-.94-2.06-.94-.94-2.06-.94 2.06-2.06.94zm-11 1L8.5 8.5l.94-2.06 2.06-.94-2.06-.94L8.5 2.5l-.94 2.06-2.06.94zm10 10l.94 2.06.94-2.06 2.06-.94-2.06-.94-.94-2.06-.94 2.06-2.06.94z\"/><path d=\"M17.41 7.96l-1.37-1.37c-.4-.4-.92-.59-1.43-.59-.52 0-1.04.2-1.43.59L10.3 9.45l-7.72 7.72c-.78.78-.78 2.05 0 2.83L4 21.41c.39.39.9.59 1.41.59.51 0 1.02-.2 1.41-.59l7.78-7.78 2.81-2.81c.8-.78.8-2.07 0-2.86zM5.41 20L4 18.59l7.72-7.72 1.47 1.35L5.41 20z\"/>\n",
              "  </svg>\n",
              "      </button>\n",
              "      \n",
              "  <style>\n",
              "    .colab-df-container {\n",
              "      display:flex;\n",
              "      flex-wrap:wrap;\n",
              "      gap: 12px;\n",
              "    }\n",
              "\n",
              "    .colab-df-convert {\n",
              "      background-color: #E8F0FE;\n",
              "      border: none;\n",
              "      border-radius: 50%;\n",
              "      cursor: pointer;\n",
              "      display: none;\n",
              "      fill: #1967D2;\n",
              "      height: 32px;\n",
              "      padding: 0 0 0 0;\n",
              "      width: 32px;\n",
              "    }\n",
              "\n",
              "    .colab-df-convert:hover {\n",
              "      background-color: #E2EBFA;\n",
              "      box-shadow: 0px 1px 2px rgba(60, 64, 67, 0.3), 0px 1px 3px 1px rgba(60, 64, 67, 0.15);\n",
              "      fill: #174EA6;\n",
              "    }\n",
              "\n",
              "    [theme=dark] .colab-df-convert {\n",
              "      background-color: #3B4455;\n",
              "      fill: #D2E3FC;\n",
              "    }\n",
              "\n",
              "    [theme=dark] .colab-df-convert:hover {\n",
              "      background-color: #434B5C;\n",
              "      box-shadow: 0px 1px 3px 1px rgba(0, 0, 0, 0.15);\n",
              "      filter: drop-shadow(0px 1px 2px rgba(0, 0, 0, 0.3));\n",
              "      fill: #FFFFFF;\n",
              "    }\n",
              "  </style>\n",
              "\n",
              "      <script>\n",
              "        const buttonEl =\n",
              "          document.querySelector('#df-40328c7a-3f20-4e32-bc0d-2ebdd9eb21c2 button.colab-df-convert');\n",
              "        buttonEl.style.display =\n",
              "          google.colab.kernel.accessAllowed ? 'block' : 'none';\n",
              "\n",
              "        async function convertToInteractive(key) {\n",
              "          const element = document.querySelector('#df-40328c7a-3f20-4e32-bc0d-2ebdd9eb21c2');\n",
              "          const dataTable =\n",
              "            await google.colab.kernel.invokeFunction('convertToInteractive',\n",
              "                                                     [key], {});\n",
              "          if (!dataTable) return;\n",
              "\n",
              "          const docLinkHtml = 'Like what you see? Visit the ' +\n",
              "            '<a target=\"_blank\" href=https://colab.research.google.com/notebooks/data_table.ipynb>data table notebook</a>'\n",
              "            + ' to learn more about interactive tables.';\n",
              "          element.innerHTML = '';\n",
              "          dataTable['output_type'] = 'display_data';\n",
              "          await google.colab.output.renderOutput(dataTable, element);\n",
              "          const docLink = document.createElement('div');\n",
              "          docLink.innerHTML = docLinkHtml;\n",
              "          element.appendChild(docLink);\n",
              "        }\n",
              "      </script>\n",
              "    </div>\n",
              "  </div>\n",
              "  "
            ]
          },
          "metadata": {},
          "execution_count": 103
        }
      ]
    },
    {
      "cell_type": "code",
      "source": [
        "label=list(dict.fromkeys(df['Label'].values))\n",
        "print(label)\n",
        "labelencoder = LabelEncoder ()\n",
        "labelencoder = labelencoder.fit_transform (label)\n",
        "print (list(dict.fromkeys(labelencoder)))"
      ],
      "metadata": {
        "id": "Q0r-dxrmKsF1",
        "outputId": "18a255f1-4da8-4237-f244-55c8dff83f37",
        "colab": {
          "base_uri": "https://localhost:8080/"
        }
      },
      "execution_count": 104,
      "outputs": [
        {
          "output_type": "stream",
          "name": "stdout",
          "text": [
            "['ensalada_cangrejo', 'coca_cola', 'botella_agua', 'hummus_pimiento', 'crema_calabaza', 'gazpacho']\n",
            "[3, 1, 0, 5, 2, 4]\n"
          ]
        }
      ]
    },
    {
      "cell_type": "code",
      "source": [
        "val_doc = []\n",
        "for x in range(len(df)):\n",
        "  for y in range(len(label)):\n",
        "    if df.iloc[x,0] == label[y]:\n",
        "      val_doc.append(str(df.iloc[x,1]) + \" \" + str(labelencoder[y]))"
      ],
      "metadata": {
        "id": "b741I4hpKwvF"
      },
      "execution_count": 105,
      "outputs": []
    },
    {
      "cell_type": "code",
      "source": [
        "with open('/content/drive/MyDrive/MTDI_TFM/validation.txt', 'w') as f:\n",
        "    for line in val_doc:\n",
        "        f.write(line)\n",
        "        f.write('\\n')"
      ],
      "metadata": {
        "id": "2tWCzoH4MRUy"
      },
      "execution_count": 106,
      "outputs": []
    }
  ]
}