{
  "nbformat": 4,
  "nbformat_minor": 0,
  "metadata": {
    "colab": {
      "name": "GenerarTXT.ipynb",
      "provenance": [],
      "authorship_tag": "ABX9TyMlodbMmoI39a16/ljTH5kt",
      "include_colab_link": true
    },
    "kernelspec": {
      "name": "python3",
      "display_name": "Python 3"
    },
    "language_info": {
      "name": "python"
    },
    "accelerator": "TPU"
  },
  "cells": [
    {
      "cell_type": "markdown",
      "metadata": {
        "id": "view-in-github",
        "colab_type": "text"
      },
      "source": [
        "<a href=\"https://colab.research.google.com/github/manvgom/Pickioset/blob/main/GenerarTXT.ipynb\" target=\"_parent\"><img src=\"https://colab.research.google.com/assets/colab-badge.svg\" alt=\"Open In Colab\"/></a>"
      ]
    },
    {
      "cell_type": "code",
      "execution_count": 45,
      "metadata": {
        "colab": {
          "base_uri": "https://localhost:8080/"
        },
        "id": "sCJx9s8EP-Gd",
        "outputId": "46dcb752-d814-4e86-a0b7-fb7e3c607fed"
      },
      "outputs": [
        {
          "output_type": "stream",
          "name": "stdout",
          "text": [
            "Once deleted, variables cannot be recovered. Proceed (y/[n])? y\n",
            "Mounted at /content/drive\n"
          ]
        }
      ],
      "source": [
        "%reset \n",
        "from google.colab import drive\n",
        "drive.mount('/content/drive',force_remount=True)\n",
        "!mkdir -p dataset\n",
        "!unzip -qo drive/MyDrive/MTDI_TFM/PICKIOSET/openMMlab_ds.zip -d ./dataset/"
      ]
    },
    {
      "cell_type": "code",
      "source": [
        "import os\n",
        "import pandas as pd\n",
        "from sklearn.preprocessing import LabelEncoder , OneHotEncoder"
      ],
      "metadata": {
        "id": "WM83PynVRIrt"
      },
      "execution_count": 46,
      "outputs": []
    },
    {
      "cell_type": "code",
      "source": [
        "%cd /content/dataset/openMMlab_small_ds/test_set/test_set/\n",
        "test_path = \"/content/dataset/openMMlab_ds/test_set/test_set/\"\n",
        "test_class = os.listdir(test_path)\n",
        "#test_class.remove(\".DS_Store\")\n",
        "print (test_class)\n",
        "print(\"Types of classes labels found: \", len(test_class))\n",
        "print(\"\\n\")\n",
        "%cd /content/dataset/openMMlab_small_ds/val_set/val_set/\n",
        "val_path = \"/content/dataset/openMMlab_ds/val_set/val_set/\"\n",
        "val_class = os.listdir(val_path)\n",
        "#val_class.remove(\".DS_Store\")\n",
        "print (val_class)\n",
        "print(\"Types of classes labels found: \", len(val_class))"
      ],
      "metadata": {
        "colab": {
          "base_uri": "https://localhost:8080/"
        },
        "id": "cZW99OJ1Q8zZ",
        "outputId": "2eff90a5-f54e-4730-c4a1-ff9727def110"
      },
      "execution_count": 47,
      "outputs": [
        {
          "output_type": "stream",
          "name": "stdout",
          "text": [
            "[Errno 2] No such file or directory: '/content/dataset/openMMlab_small_ds/test_set/test_set/'\n",
            "/content\n",
            "['sandwich_jamon', 'smoothie_fresa', 'snack_integral', 'ensalada_cangrejo', 'coca_cola', 'botella_agua', 'hummus_pimiento', 'guisantes_jamon', 'ensalada_rusa', 'crema_calabaza', 'gazpacho', 'tortilla_patata', 'yogurth_cereal', 'smoothie_mango', 'fanta_limon', 'manzana', 'paella', 'fanta_naranja']\n",
            "Types of classes labels found:  18\n",
            "\n",
            "\n",
            "[Errno 2] No such file or directory: '/content/dataset/openMMlab_small_ds/val_set/val_set/'\n",
            "/content\n",
            "['sandwich_jamon', 'smoothie_fresa', 'snack_integral', 'ensalada_cangrejo', 'coca_cola', 'botella_agua', 'hummus_pimiento', 'guisantes_jamon', 'ensalada_rusa', 'crema_calabaza', 'gazpacho', 'tortilla_patata', 'yogurth_cereal', 'smoothie_mango', 'fanta_limon', 'manzana', 'paella', 'fanta_naranja']\n",
            "Types of classes labels found:  18\n"
          ]
        }
      ]
    },
    {
      "cell_type": "code",
      "source": [
        "test_class_labels = []\n",
        "for x in test_class:\n",
        " all_classes = os.listdir(test_path + x)\n",
        " for y in all_classes:\n",
        "  test_class_labels.append((x,str(x) + '/' + y))\n",
        "test_df = pd.DataFrame(data=test_class_labels, columns = ['Test_Label','Test_Path'])\n",
        "\n",
        "val_class_labels = []\n",
        "for x in val_class:\n",
        " all_classes = os.listdir(val_path + x)\n",
        " for y in all_classes:\n",
        "  val_class_labels.append((x,str(x) + '/' + y))\n",
        "val_df = pd.DataFrame(data=val_class_labels, columns = ['Val_Label','Val_Path'])\n",
        "\n",
        "(pd.concat([test_df, val_df], axis=1)).head(6)"
      ],
      "metadata": {
        "id": "ix-x4RLDFT_G",
        "outputId": "8855c729-2289-4aef-932b-025ef17bd098",
        "colab": {
          "base_uri": "https://localhost:8080/",
          "height": 238
        }
      },
      "execution_count": 48,
      "outputs": [
        {
          "output_type": "execute_result",
          "data": {
            "text/plain": [
              "       Test_Label              Test_Path       Val_Label  \\\n",
              "0  sandwich_jamon  sandwich_jamon/96.jpg  sandwich_jamon   \n",
              "1  sandwich_jamon  sandwich_jamon/54.jpg  sandwich_jamon   \n",
              "2  sandwich_jamon  sandwich_jamon/82.jpg  sandwich_jamon   \n",
              "3  sandwich_jamon  sandwich_jamon/85.jpg  sandwich_jamon   \n",
              "4  sandwich_jamon  sandwich_jamon/93.jpg  sandwich_jamon   \n",
              "5  sandwich_jamon  sandwich_jamon/58.jpg  sandwich_jamon   \n",
              "\n",
              "                Val_Path  \n",
              "0  sandwich_jamon/61.jpg  \n",
              "1  sandwich_jamon/16.jpg  \n",
              "2  sandwich_jamon/78.jpg  \n",
              "3   sandwich_jamon/5.jpg  \n",
              "4  sandwich_jamon/45.jpg  \n",
              "5  sandwich_jamon/81.jpg  "
            ],
            "text/html": [
              "\n",
              "  <div id=\"df-dfb877fa-195b-487d-8e4f-558e8377b7d7\">\n",
              "    <div class=\"colab-df-container\">\n",
              "      <div>\n",
              "<style scoped>\n",
              "    .dataframe tbody tr th:only-of-type {\n",
              "        vertical-align: middle;\n",
              "    }\n",
              "\n",
              "    .dataframe tbody tr th {\n",
              "        vertical-align: top;\n",
              "    }\n",
              "\n",
              "    .dataframe thead th {\n",
              "        text-align: right;\n",
              "    }\n",
              "</style>\n",
              "<table border=\"1\" class=\"dataframe\">\n",
              "  <thead>\n",
              "    <tr style=\"text-align: right;\">\n",
              "      <th></th>\n",
              "      <th>Test_Label</th>\n",
              "      <th>Test_Path</th>\n",
              "      <th>Val_Label</th>\n",
              "      <th>Val_Path</th>\n",
              "    </tr>\n",
              "  </thead>\n",
              "  <tbody>\n",
              "    <tr>\n",
              "      <th>0</th>\n",
              "      <td>sandwich_jamon</td>\n",
              "      <td>sandwich_jamon/96.jpg</td>\n",
              "      <td>sandwich_jamon</td>\n",
              "      <td>sandwich_jamon/61.jpg</td>\n",
              "    </tr>\n",
              "    <tr>\n",
              "      <th>1</th>\n",
              "      <td>sandwich_jamon</td>\n",
              "      <td>sandwich_jamon/54.jpg</td>\n",
              "      <td>sandwich_jamon</td>\n",
              "      <td>sandwich_jamon/16.jpg</td>\n",
              "    </tr>\n",
              "    <tr>\n",
              "      <th>2</th>\n",
              "      <td>sandwich_jamon</td>\n",
              "      <td>sandwich_jamon/82.jpg</td>\n",
              "      <td>sandwich_jamon</td>\n",
              "      <td>sandwich_jamon/78.jpg</td>\n",
              "    </tr>\n",
              "    <tr>\n",
              "      <th>3</th>\n",
              "      <td>sandwich_jamon</td>\n",
              "      <td>sandwich_jamon/85.jpg</td>\n",
              "      <td>sandwich_jamon</td>\n",
              "      <td>sandwich_jamon/5.jpg</td>\n",
              "    </tr>\n",
              "    <tr>\n",
              "      <th>4</th>\n",
              "      <td>sandwich_jamon</td>\n",
              "      <td>sandwich_jamon/93.jpg</td>\n",
              "      <td>sandwich_jamon</td>\n",
              "      <td>sandwich_jamon/45.jpg</td>\n",
              "    </tr>\n",
              "    <tr>\n",
              "      <th>5</th>\n",
              "      <td>sandwich_jamon</td>\n",
              "      <td>sandwich_jamon/58.jpg</td>\n",
              "      <td>sandwich_jamon</td>\n",
              "      <td>sandwich_jamon/81.jpg</td>\n",
              "    </tr>\n",
              "  </tbody>\n",
              "</table>\n",
              "</div>\n",
              "      <button class=\"colab-df-convert\" onclick=\"convertToInteractive('df-dfb877fa-195b-487d-8e4f-558e8377b7d7')\"\n",
              "              title=\"Convert this dataframe to an interactive table.\"\n",
              "              style=\"display:none;\">\n",
              "        \n",
              "  <svg xmlns=\"http://www.w3.org/2000/svg\" height=\"24px\"viewBox=\"0 0 24 24\"\n",
              "       width=\"24px\">\n",
              "    <path d=\"M0 0h24v24H0V0z\" fill=\"none\"/>\n",
              "    <path d=\"M18.56 5.44l.94 2.06.94-2.06 2.06-.94-2.06-.94-.94-2.06-.94 2.06-2.06.94zm-11 1L8.5 8.5l.94-2.06 2.06-.94-2.06-.94L8.5 2.5l-.94 2.06-2.06.94zm10 10l.94 2.06.94-2.06 2.06-.94-2.06-.94-.94-2.06-.94 2.06-2.06.94z\"/><path d=\"M17.41 7.96l-1.37-1.37c-.4-.4-.92-.59-1.43-.59-.52 0-1.04.2-1.43.59L10.3 9.45l-7.72 7.72c-.78.78-.78 2.05 0 2.83L4 21.41c.39.39.9.59 1.41.59.51 0 1.02-.2 1.41-.59l7.78-7.78 2.81-2.81c.8-.78.8-2.07 0-2.86zM5.41 20L4 18.59l7.72-7.72 1.47 1.35L5.41 20z\"/>\n",
              "  </svg>\n",
              "      </button>\n",
              "      \n",
              "  <style>\n",
              "    .colab-df-container {\n",
              "      display:flex;\n",
              "      flex-wrap:wrap;\n",
              "      gap: 12px;\n",
              "    }\n",
              "\n",
              "    .colab-df-convert {\n",
              "      background-color: #E8F0FE;\n",
              "      border: none;\n",
              "      border-radius: 50%;\n",
              "      cursor: pointer;\n",
              "      display: none;\n",
              "      fill: #1967D2;\n",
              "      height: 32px;\n",
              "      padding: 0 0 0 0;\n",
              "      width: 32px;\n",
              "    }\n",
              "\n",
              "    .colab-df-convert:hover {\n",
              "      background-color: #E2EBFA;\n",
              "      box-shadow: 0px 1px 2px rgba(60, 64, 67, 0.3), 0px 1px 3px 1px rgba(60, 64, 67, 0.15);\n",
              "      fill: #174EA6;\n",
              "    }\n",
              "\n",
              "    [theme=dark] .colab-df-convert {\n",
              "      background-color: #3B4455;\n",
              "      fill: #D2E3FC;\n",
              "    }\n",
              "\n",
              "    [theme=dark] .colab-df-convert:hover {\n",
              "      background-color: #434B5C;\n",
              "      box-shadow: 0px 1px 3px 1px rgba(0, 0, 0, 0.15);\n",
              "      filter: drop-shadow(0px 1px 2px rgba(0, 0, 0, 0.3));\n",
              "      fill: #FFFFFF;\n",
              "    }\n",
              "  </style>\n",
              "\n",
              "      <script>\n",
              "        const buttonEl =\n",
              "          document.querySelector('#df-dfb877fa-195b-487d-8e4f-558e8377b7d7 button.colab-df-convert');\n",
              "        buttonEl.style.display =\n",
              "          google.colab.kernel.accessAllowed ? 'block' : 'none';\n",
              "\n",
              "        async function convertToInteractive(key) {\n",
              "          const element = document.querySelector('#df-dfb877fa-195b-487d-8e4f-558e8377b7d7');\n",
              "          const dataTable =\n",
              "            await google.colab.kernel.invokeFunction('convertToInteractive',\n",
              "                                                     [key], {});\n",
              "          if (!dataTable) return;\n",
              "\n",
              "          const docLinkHtml = 'Like what you see? Visit the ' +\n",
              "            '<a target=\"_blank\" href=https://colab.research.google.com/notebooks/data_table.ipynb>data table notebook</a>'\n",
              "            + ' to learn more about interactive tables.';\n",
              "          element.innerHTML = '';\n",
              "          dataTable['output_type'] = 'display_data';\n",
              "          await google.colab.output.renderOutput(dataTable, element);\n",
              "          const docLink = document.createElement('div');\n",
              "          docLink.innerHTML = docLinkHtml;\n",
              "          element.appendChild(docLink);\n",
              "        }\n",
              "      </script>\n",
              "    </div>\n",
              "  </div>\n",
              "  "
            ]
          },
          "metadata": {},
          "execution_count": 48
        }
      ]
    },
    {
      "cell_type": "code",
      "source": [
        "test_label=list(dict.fromkeys(test_df['Test_Label'].values))\n",
        "print(test_label)\n",
        "test_labelencoder = LabelEncoder ()\n",
        "test_labelencoder = test_labelencoder.fit_transform (test_label)\n",
        "print(test_labelencoder)\n",
        "print(\"\\n\")\n",
        "val_label=list(dict.fromkeys(val_df['Val_Label'].values))\n",
        "print(val_label)\n",
        "val_labelencoder = LabelEncoder ()\n",
        "val_labelencoder = val_labelencoder.fit_transform (val_label)\n",
        "print(val_labelencoder)"
      ],
      "metadata": {
        "colab": {
          "base_uri": "https://localhost:8080/"
        },
        "id": "Wr0KMKmGYZ1j",
        "outputId": "f23b19f3-6307-4b26-fce7-b997b3143c91"
      },
      "execution_count": 49,
      "outputs": [
        {
          "output_type": "stream",
          "name": "stdout",
          "text": [
            "['sandwich_jamon', 'smoothie_fresa', 'snack_integral', 'ensalada_cangrejo', 'coca_cola', 'botella_agua', 'hummus_pimiento', 'guisantes_jamon', 'ensalada_rusa', 'crema_calabaza', 'gazpacho', 'tortilla_patata', 'yogurth_cereal', 'smoothie_mango', 'fanta_limon', 'manzana', 'paella', 'fanta_naranja']\n",
            "[12 13 15  3  1  0  9  8  4  2  7 16 17 14  5 10 11  6]\n",
            "\n",
            "\n",
            "['sandwich_jamon', 'smoothie_fresa', 'snack_integral', 'ensalada_cangrejo', 'coca_cola', 'botella_agua', 'hummus_pimiento', 'guisantes_jamon', 'ensalada_rusa', 'crema_calabaza', 'gazpacho', 'tortilla_patata', 'yogurth_cereal', 'smoothie_mango', 'fanta_limon', 'manzana', 'paella', 'fanta_naranja']\n",
            "[12 13 15  3  1  0  9  8  4  2  7 16 17 14  5 10 11  6]\n"
          ]
        }
      ]
    },
    {
      "cell_type": "code",
      "source": [
        "test_doc = []\n",
        "for x in range(len(test_df)):\n",
        "  for y in range(len(test_label)):\n",
        "    if test_df.iloc[x,0] == test_label[y]:\n",
        "      test_doc.append(str(test_df.iloc[x,1]) + \" \" + str(test_labelencoder[y]))\n",
        "\n",
        "val_doc = []\n",
        "for x in range(len(val_df)):\n",
        "  for y in range(len(val_label)):\n",
        "    if val_df.iloc[x,0] == val_label[y]:\n",
        "      val_doc.append(str(val_df.iloc[x,1]) + \" \" + str(val_labelencoder[y]))"
      ],
      "metadata": {
        "id": "0n-1yXxtIAHT"
      },
      "execution_count": 50,
      "outputs": []
    },
    {
      "cell_type": "code",
      "source": [
        "keys = test_label\n",
        "values = test_labelencoder.tolist()\n",
        "dictionary = dict(zip(keys, values))\n",
        "labels = sorted(dictionary, key=dictionary.get)"
      ],
      "metadata": {
        "id": "9aI-TTefZ77g"
      },
      "execution_count": 51,
      "outputs": []
    },
    {
      "cell_type": "code",
      "source": [
        "with open('/content/drive/MyDrive/MTDI_TFM/test.txt', 'w') as f:\n",
        "    for line in test_doc:\n",
        "        f.write(line)\n",
        "        f.write('\\n')\n",
        "\n",
        "with open('/content/drive/MyDrive/MTDI_TFM/val.txt', 'w') as f:\n",
        "    for line in val_doc:\n",
        "        f.write(line)\n",
        "        f.write('\\n')\n",
        "\n",
        "with open('/content/drive/MyDrive/MTDI_TFM/classes.txt', 'w') as f:\n",
        "    for line in labels:\n",
        "        f.write(line)\n",
        "        f.write('\\n')"
      ],
      "metadata": {
        "id": "vWf3aMXBM6R3"
      },
      "execution_count": 52,
      "outputs": []
    }
  ]
}